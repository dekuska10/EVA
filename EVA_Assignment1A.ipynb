{
 "cells": [
  {
   "cell_type": "markdown",
   "metadata": {
    "colab_type": "text",
    "id": "RVoK8rrg1hGq"
   },
   "source": [
    "**Edge Detection using Kernels **"
   ]
  },
  {
   "cell_type": "markdown",
   "metadata": {
    "colab_type": "text",
    "id": "TJ4Oi4HpIURT"
   },
   "source": [
    "Edge detection are used in computer vision to segment the objects in an image using image processing methods . Itcan be considered as a process where the changes / discontinutes in the pixel values in an image divides the boundaries between the objects in an image . The information of an object be it properties like shape,textures are enclosed inside the edges."
   ]
  },
  {
   "cell_type": "code",
   "execution_count": null,
   "metadata": {
    "colab": {},
    "colab_type": "code",
    "id": "GjP6iXBKDwQA"
   },
   "outputs": [],
   "source": [
    "# import the necessary packages\n",
    "import numpy as np\n",
    "from IPython.display import Image\n",
    "from urllib.request import urlopen\n",
    "import cv2\n",
    "from matplotlib import pyplot as plt\n",
    "\n",
    "# METHOD #1: OpenCV, NumPy, and urllib\n",
    "def url_to_image(url):\n",
    "\t# download the image, convert it to a NumPy array, and then read\n",
    "\t# it into OpenCV format\n",
    "\tresp = urlopen(url)\n",
    "\timage = np.asarray(bytearray(resp.read()), dtype=\"uint8\")\n",
    "\timage = cv2.imdecode(image, cv2.IMREAD_COLOR)\n",
    " \n",
    "\t# return the image\n",
    "\treturn image"
   ]
  },
  {
   "cell_type": "markdown",
   "metadata": {
    "colab_type": "text",
    "id": "1rlOibFO1dne"
   },
   "source": [
    "To load an image and display the loaded image \n"
   ]
  },
  {
   "cell_type": "code",
   "execution_count": null,
   "metadata": {
    "colab": {},
    "colab_type": "code",
    "id": "wqBWa8A8ZkHL"
   },
   "outputs": [],
   "source": [
    "image = url_to_image(\"https://fontsarena-cd5e.kxcdn.com/wp-content/uploads/2019/04/helvetica-now-font-400x364.png\")"
   ]
  },
  {
   "cell_type": "code",
   "execution_count": null,
   "metadata": {
    "colab": {
     "base_uri": "https://localhost:8080/",
     "height": 381
    },
    "colab_type": "code",
    "id": "fZ4mROjoEO72",
    "outputId": "e088cfb2-1c7f-4b3f-cf20-f3e3e50a1e66"
   },
   "outputs": [],
   "source": [
    "from google.colab.patches import cv2_imshow\n",
    "cv2_imshow(image)"
   ]
  },
  {
   "cell_type": "markdown",
   "metadata": {
    "colab_type": "text",
    "id": "PSw2w0rs2CvH"
   },
   "source": [
    "1. **Canny Edge detection** using pre-defined threshold "
   ]
  },
  {
   "cell_type": "code",
   "execution_count": null,
   "metadata": {
    "colab": {},
    "colab_type": "code",
    "id": "46_1y1HtE336"
   },
   "outputs": [],
   "source": [
    "edges = cv2.Canny(image,100,200)"
   ]
  },
  {
   "cell_type": "code",
   "execution_count": null,
   "metadata": {
    "colab": {
     "base_uri": "https://localhost:8080/",
     "height": 381
    },
    "colab_type": "code",
    "id": "OA0SsldTFLtp",
    "outputId": "133933f6-a726-4ef3-b32c-e70fcfba4718"
   },
   "outputs": [],
   "source": [
    "cv2_imshow(edges)"
   ]
  },
  {
   "cell_type": "markdown",
   "metadata": {
    "colab_type": "text",
    "id": "D6kekrc-2Rw8"
   },
   "source": [
    "2.**Vertical Edge Detection **using custom 3x3 kernel "
   ]
  },
  {
   "cell_type": "code",
   "execution_count": null,
   "metadata": {
    "colab": {
     "base_uri": "https://localhost:8080/",
     "height": 432
    },
    "colab_type": "code",
    "id": "yDi_y8wxFOSR",
    "outputId": "268373b7-1952-4d3d-a8f8-94c83e3e9981"
   },
   "outputs": [],
   "source": [
    "#kernel = np.ones((3,3),np.float32)/25\n",
    "kernel = np.float32([[-1,0,1],[-1,0,1],[-1,0,1]])\n",
    "print(kernel)\n",
    "\n",
    "dst = cv2.filter2D(image,-1,kernel)\n",
    "cv2_imshow(dst)"
   ]
  },
  {
   "cell_type": "markdown",
   "metadata": {
    "colab_type": "text",
    "id": "h8WpqedgxVsB"
   },
   "source": [
    "3.**Horizontal edge detectio**n using 3x3 kernel "
   ]
  },
  {
   "cell_type": "markdown",
   "metadata": {
    "colab_type": "text",
    "id": "etX6pL4C2l0F"
   },
   "source": [
    "**Theory / Explanation :**  The Horizontal edge detection is gradient based approach i.e the first order derivative . This is susceptible to noises and gives thick edges . The Horizontal edge detection is used to maintain the horizontal edges in an image . The kernel used 3x3 matrix has the center values as zero to preserve the center pixels during the matrix multiplication with the orginal image."
   ]
  },
  {
   "cell_type": "code",
   "execution_count": null,
   "metadata": {},
   "outputs": [],
   "source": [
    "with open('/home/aeye/Videos/horizontalmultiplication.gif','rb') as f:\n",
    "    display(Image(data=f.read(), format='png'))"
   ]
  },
  {
   "cell_type": "code",
   "execution_count": null,
   "metadata": {
    "colab": {
     "base_uri": "https://localhost:8080/",
     "height": 432
    },
    "colab_type": "code",
    "id": "NBSvpWjZxcn1",
    "outputId": "433a4030-025d-4c5a-8255-a2677c4ec16a"
   },
   "outputs": [],
   "source": [
    "#kernel = np.ones((3,3),np.float32)/25\n",
    "kernel_horiz = np.float32([[1,1,1],[0,0,0],[-1,-1,-1]])\n",
    "print(\"KernelMatrix\",kernel_horiz)\n",
    "\n",
    "dst_horiz = cv2.filter2D(image,-1,kernel_horiz)\n",
    "cv2_imshow(dst_horiz)"
   ]
  },
  {
   "cell_type": "markdown",
   "metadata": {
    "colab_type": "text",
    "id": "A_iXhe6V2g13"
   },
   "source": [
    "4. **45 /135 Degree Edge Detection** using 3x3 kernel\n"
   ]
  },
  {
   "cell_type": "markdown",
   "metadata": {
    "colab_type": "text",
    "id": "ShkLdprS_-d4"
   },
   "source": [
    "**Theory / Explanation:** If we are intrested  to obtain the diagonal edges in an image we use diagonal kernels for edges extraction . The below mentioned kernel are 135 degree which has value 2 along the diagonal  matrix . The orginal image is matrix multiplied with the kernel to obtain the diagonal line of an image ."
   ]
  },
  {
   "cell_type": "code",
   "execution_count": null,
   "metadata": {
    "colab": {
     "base_uri": "https://localhost:8080/",
     "height": 432
    },
    "colab_type": "code",
    "id": "guHYMnei2lCp",
    "outputId": "618c6ff0-8748-4b46-df89-d8d957b19d82"
   },
   "outputs": [],
   "source": [
    "\n",
    "kernel_45 = np.float32([[2,-1,-1],[-1,2,-1],[-1,-1,2]])#([[-1,-1,2],[-1,2,-1],[2,-1,-1]])#\n",
    "print(kernel_45)\n",
    "\n",
    "dst_45 = cv2.filter2D(image,-1,kernel_45)\n",
    "\n",
    "cv2_imshow(dst_45)\n",
    "\n"
   ]
  },
  {
   "cell_type": "markdown",
   "metadata": {
    "colab_type": "text",
    "id": "F0WvW673AAfm"
   },
   "source": [
    "5 . **Blur Edges** using 3x3 kernel \n"
   ]
  },
  {
   "cell_type": "markdown",
   "metadata": {
    "colab_type": "text",
    "id": "EYEq0PVc3ISz"
   },
   "source": [
    "**Theory / Explanation :** Blurring operation is generally used to remove high frequency noises in a image using low pass filter. The blur operation is performed using the convolve operation between the kernel and the orginal image . There are different blurring operations like \n",
    "\n",
    "1.   Average blur\n",
    "2.   Median blur\n",
    "3.    Gaussian blur \n",
    "\n",
    "The below mentioned operation is average blurring or normalized blur , where it takes the average between all the pixels in the kernel area and replace the value as a center element \n",
    "\n",
    "\n"
   ]
  },
  {
   "cell_type": "code",
   "execution_count": null,
   "metadata": {
    "colab": {
     "base_uri": "https://localhost:8080/",
     "height": 381
    },
    "colab_type": "code",
    "id": "yqN8fMJ-ACGv",
    "outputId": "8780d9bb-b352-4d76-bb24-b6899784d985"
   },
   "outputs": [],
   "source": [
    "kernel_size=3\n",
    "kernel_blur = np.ones( (kernel_size,kernel_size), np.float32)\n",
    "kernel_blur = kernel_blur/(kernel_size*kernel_size)\n",
    "\n",
    "dst_blur = cv2.filter2D(image,-1,kernel_blur)\n",
    "cv2_imshow(dst_blur)"
   ]
  },
  {
   "cell_type": "markdown",
   "metadata": {
    "colab_type": "text",
    "id": "rilqfxy4JU1S"
   },
   "source": [
    "6.**Sharpen** Edges using 3x3  Kernel\n"
   ]
  },
  {
   "cell_type": "markdown",
   "metadata": {
    "colab_type": "text",
    "id": "NIqwUR-J3Kns"
   },
   "source": [
    "**Theory / Explanation :** Sharpening an image is kind of enhancing the edges of an image using the specified kernel . This operation is performed by convolving the image with the defined kernel matrix.\n"
   ]
  },
  {
   "cell_type": "code",
   "execution_count": null,
   "metadata": {
    "colab": {
     "base_uri": "https://localhost:8080/",
     "height": 432
    },
    "colab_type": "code",
    "id": "FE_HFCAMJV0X",
    "outputId": "b2cf2a7a-d9db-4971-faff-7ba1c3c75f0c"
   },
   "outputs": [],
   "source": [
    "kernel_sharp = np.float32([[0, -1, 0],[-1, 5, -1],[0, -1, 0]])\n",
    "print(kernel_sharp)\n",
    "\n",
    "dst_sharp = cv2.filter2D(image,-1,kernel_sharp)\n",
    "cv2_imshow(dst_sharp)"
   ]
  }
 ],
 "metadata": {
  "colab": {
   "collapsed_sections": [],
   "name": "EVA_S1.ipynb",
   "provenance": [],
   "version": "0.3.2"
  },
  "kernelspec": {
   "display_name": "Python 3",
   "language": "python",
   "name": "python3"
  },
  "language_info": {
   "name": ""
  }
 },
 "nbformat": 4,
 "nbformat_minor": 2
}
