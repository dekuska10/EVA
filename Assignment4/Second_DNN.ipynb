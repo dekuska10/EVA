{
  "nbformat": 4,
  "nbformat_minor": 0,
  "metadata": {
    "colab": {
      "name": "Second DNN.ipynb",
      "version": "0.3.2",
      "provenance": [],
      "collapsed_sections": []
    },
    "kernelspec": {
      "name": "python3",
      "display_name": "Python 3"
    },
    "accelerator": "GPU"
  },
  "cells": [
    {
      "cell_type": "markdown",
      "metadata": {
        "id": "aNyZv-Ec52ot",
        "colab_type": "text"
      },
      "source": [
        "# **Import Libraries and modules**"
      ]
    },
    {
      "cell_type": "code",
      "metadata": {
        "id": "3m3w1Cw49Zkt",
        "colab_type": "code",
        "colab": {}
      },
      "source": [
        "# https://keras.io/\n",
        "!pip install -q keras\n",
        "import keras"
      ],
      "execution_count": 0,
      "outputs": []
    },
    {
      "cell_type": "code",
      "metadata": {
        "id": "Eso6UHE080D4",
        "colab_type": "code",
        "colab": {}
      },
      "source": [
        "import numpy as np\n",
        "\n",
        "from keras.models import Sequential\n",
        "from keras.layers import Dense, Dropout, Activation, Flatten, Add\n",
        "from keras.layers import Convolution2D, MaxPooling2D\n",
        "from keras.utils import np_utils\n",
        "\n",
        "from keras.datasets import mnist"
      ],
      "execution_count": 0,
      "outputs": []
    },
    {
      "cell_type": "markdown",
      "metadata": {
        "id": "zByEi95J86RD",
        "colab_type": "text"
      },
      "source": [
        "### Load pre-shuffled MNIST data into train and test sets"
      ]
    },
    {
      "cell_type": "code",
      "metadata": {
        "id": "7eRM0QWN83PV",
        "colab_type": "code",
        "colab": {}
      },
      "source": [
        "(X_train, y_train), (X_test, y_test) = mnist.load_data()"
      ],
      "execution_count": 0,
      "outputs": []
    },
    {
      "cell_type": "code",
      "metadata": {
        "id": "4a4Be72j8-ZC",
        "colab_type": "code",
        "outputId": "8534052a-303f-42e0-b935-c78a0c79d87e",
        "colab": {
          "base_uri": "https://localhost:8080/",
          "height": 303
        }
      },
      "source": [
        "print (X_train.shape)\n",
        "from matplotlib import pyplot as plt\n",
        "%matplotlib inline\n",
        "plt.imshow(X_train[0])"
      ],
      "execution_count": 5,
      "outputs": [
        {
          "output_type": "stream",
          "text": [
            "(60000, 28, 28)\n"
          ],
          "name": "stdout"
        },
        {
          "output_type": "execute_result",
          "data": {
            "text/plain": [
              "<matplotlib.image.AxesImage at 0x7fe8fc886390>"
            ]
          },
          "metadata": {
            "tags": []
          },
          "execution_count": 5
        },
        {
          "output_type": "display_data",
          "data": {
            "image/png": "[encoded data removed]",
            "text/plain": [
              "<Figure size 432x288 with 1 Axes>"
            ]
          },
          "metadata": {
            "tags": []
          }
        }
      ]
    },
    {
      "cell_type": "code",
      "metadata": {
        "id": "dkmprriw9AnZ",
        "colab_type": "code",
        "colab": {}
      },
      "source": [
        "X_train = X_train.reshape(X_train.shape[0], 28, 28,1)\n",
        "X_test = X_test.reshape(X_test.shape[0], 28, 28,1)"
      ],
      "execution_count": 0,
      "outputs": []
    },
    {
      "cell_type": "code",
      "metadata": {
        "id": "X2m4YS4E9CRh",
        "colab_type": "code",
        "colab": {}
      },
      "source": [
        "X_train = X_train.astype('float32')\n",
        "X_test = X_test.astype('float32')\n",
        "X_train /= 255\n",
        "X_test /= 255"
      ],
      "execution_count": 0,
      "outputs": []
    },
    {
      "cell_type": "code",
      "metadata": {
        "id": "0Mn0vAYD9DvB",
        "colab_type": "code",
        "outputId": "7697f876-2476-4099-d755-8b902d8468d5",
        "colab": {
          "base_uri": "https://localhost:8080/",
          "height": 34
        }
      },
      "source": [
        "y_train[:10]"
      ],
      "execution_count": 8,
      "outputs": [
        {
          "output_type": "execute_result",
          "data": {
            "text/plain": [
              "array([5, 0, 4, 1, 9, 2, 1, 3, 1, 4], dtype=uint8)"
            ]
          },
          "metadata": {
            "tags": []
          },
          "execution_count": 8
        }
      ]
    },
    {
      "cell_type": "code",
      "metadata": {
        "id": "ZG8JiXR39FHC",
        "colab_type": "code",
        "colab": {}
      },
      "source": [
        "# Convert 1-dimensional class arrays to 10-dimensional class matrices\n",
        "Y_train = np_utils.to_categorical(y_train, 10)\n",
        "Y_test = np_utils.to_categorical(y_test, 10)"
      ],
      "execution_count": 0,
      "outputs": []
    },
    {
      "cell_type": "code",
      "metadata": {
        "id": "fYlFRvKS9HMB",
        "colab_type": "code",
        "outputId": "0343733d-2b81-4f1e-9c57-728e85c91a81",
        "colab": {
          "base_uri": "https://localhost:8080/",
          "height": 187
        }
      },
      "source": [
        "Y_train[:10]\n"
      ],
      "execution_count": 10,
      "outputs": [
        {
          "output_type": "execute_result",
          "data": {
            "text/plain": [
              "array([[0., 0., 0., 0., 0., 1., 0., 0., 0., 0.],\n",
              "       [1., 0., 0., 0., 0., 0., 0., 0., 0., 0.],\n",
              "       [0., 0., 0., 0., 1., 0., 0., 0., 0., 0.],\n",
              "       [0., 1., 0., 0., 0., 0., 0., 0., 0., 0.],\n",
              "       [0., 0., 0., 0., 0., 0., 0., 0., 0., 1.],\n",
              "       [0., 0., 1., 0., 0., 0., 0., 0., 0., 0.],\n",
              "       [0., 1., 0., 0., 0., 0., 0., 0., 0., 0.],\n",
              "       [0., 0., 0., 1., 0., 0., 0., 0., 0., 0.],\n",
              "       [0., 1., 0., 0., 0., 0., 0., 0., 0., 0.],\n",
              "       [0., 0., 0., 0., 1., 0., 0., 0., 0., 0.]], dtype=float32)"
            ]
          },
          "metadata": {
            "tags": []
          },
          "execution_count": 10
        }
      ]
    },
    {
      "cell_type": "code",
      "metadata": {
        "id": "osKqT73Q9JJB",
        "colab_type": "code",
        "outputId": "617fd8fe-753c-4469-eec9-02c8097b1350",
        "colab": {
          "base_uri": "https://localhost:8080/",
          "height": 819
        }
      },
      "source": [
        "from keras.layers import Activation\n",
        "model = Sequential()\n",
        "\n",
        "# input layer and the first conv layer \n",
        "model.add(Convolution2D(10, 3, 3, activation='relu', input_shape=(28,28,1))) # 26\n",
        "\n",
        "# first conv block\n",
        "model.add(Convolution2D(16, 3, 3, activation='relu')) # 24\n",
        "model.add(Convolution2D(24, 3, 3, activation='relu')) # 22\n",
        "\n",
        "model.add(MaxPooling2D(pool_size=(2, 2))) # 11\n",
        "\n",
        "# second conv block\n",
        "model.add(Convolution2D(16, 3, 3, activation='relu')) # 9\n",
        "model.add(Convolution2D(24, 3, 3, activation='relu')) # 7\n",
        "\n",
        "# second transition block\n",
        "model.add(MaxPooling2D(pool_size=(2, 2))) # 3\n",
        "\n",
        "# Last conv block flowed by softmax\n",
        "model.add(Convolution2D(10, 3)) # 1\n",
        "model.add(Flatten())\n",
        "model.add(Activation('softmax'))\n",
        "\n",
        "model.summary()"
      ],
      "execution_count": 11,
      "outputs": [
        {
          "output_type": "stream",
          "text": [
            "WARNING: Logging before flag parsing goes to stderr.\n",
            "W0617 09:52:16.000678 140639792514944 deprecation_wrapper.py:119] From /usr/local/lib/python3.6/dist-packages/keras/backend/tensorflow_backend.py:74: The name tf.get_default_graph is deprecated. Please use tf.compat.v1.get_default_graph instead.\n",
            "\n",
            "/usr/local/lib/python3.6/dist-packages/ipykernel_launcher.py:5: UserWarning: Update your `Conv2D` call to the Keras 2 API: `Conv2D(10, (3, 3), activation=\"relu\", input_shape=(28, 28, 1...)`\n",
            "  \"\"\"\n",
            "W0617 09:52:16.033740 140639792514944 deprecation_wrapper.py:119] From /usr/local/lib/python3.6/dist-packages/keras/backend/tensorflow_backend.py:517: The name tf.placeholder is deprecated. Please use tf.compat.v1.placeholder instead.\n",
            "\n",
            "W0617 09:52:16.041268 140639792514944 deprecation_wrapper.py:119] From /usr/local/lib/python3.6/dist-packages/keras/backend/tensorflow_backend.py:4138: The name tf.random_uniform is deprecated. Please use tf.random.uniform instead.\n",
            "\n",
            "/usr/local/lib/python3.6/dist-packages/ipykernel_launcher.py:8: UserWarning: Update your `Conv2D` call to the Keras 2 API: `Conv2D(16, (3, 3), activation=\"relu\")`\n",
            "  \n",
            "/usr/local/lib/python3.6/dist-packages/ipykernel_launcher.py:9: UserWarning: Update your `Conv2D` call to the Keras 2 API: `Conv2D(24, (3, 3), activation=\"relu\")`\n",
            "  if __name__ == '__main__':\n",
            "W0617 09:52:16.117564 140639792514944 deprecation_wrapper.py:119] From /usr/local/lib/python3.6/dist-packages/keras/backend/tensorflow_backend.py:3976: The name tf.nn.max_pool is deprecated. Please use tf.nn.max_pool2d instead.\n",
            "\n",
            "/usr/local/lib/python3.6/dist-packages/ipykernel_launcher.py:14: UserWarning: Update your `Conv2D` call to the Keras 2 API: `Conv2D(16, (3, 3), activation=\"relu\")`\n",
            "  \n",
            "/usr/local/lib/python3.6/dist-packages/ipykernel_launcher.py:15: UserWarning: Update your `Conv2D` call to the Keras 2 API: `Conv2D(24, (3, 3), activation=\"relu\")`\n",
            "  from ipykernel import kernelapp as app\n"
          ],
          "name": "stderr"
        },
        {
          "output_type": "stream",
          "text": [
            "_________________________________________________________________\n",
            "Layer (type)                 Output Shape              Param #   \n",
            "=================================================================\n",
            "conv2d_1 (Conv2D)            (None, 26, 26, 10)        100       \n",
            "_________________________________________________________________\n",
            "conv2d_2 (Conv2D)            (None, 24, 24, 16)        1456      \n",
            "_________________________________________________________________\n",
            "conv2d_3 (Conv2D)            (None, 22, 22, 24)        3480      \n",
            "_________________________________________________________________\n",
            "max_pooling2d_1 (MaxPooling2 (None, 11, 11, 24)        0         \n",
            "_________________________________________________________________\n",
            "conv2d_4 (Conv2D)            (None, 9, 9, 16)          3472      \n",
            "_________________________________________________________________\n",
            "conv2d_5 (Conv2D)            (None, 7, 7, 24)          3480      \n",
            "_________________________________________________________________\n",
            "max_pooling2d_2 (MaxPooling2 (None, 3, 3, 24)          0         \n",
            "_________________________________________________________________\n",
            "conv2d_6 (Conv2D)            (None, 1, 1, 10)          2170      \n",
            "_________________________________________________________________\n",
            "flatten_1 (Flatten)          (None, 10)                0         \n",
            "_________________________________________________________________\n",
            "activation_1 (Activation)    (None, 10)                0         \n",
            "=================================================================\n",
            "Total params: 14,158\n",
            "Trainable params: 14,158\n",
            "Non-trainable params: 0\n",
            "_________________________________________________________________\n"
          ],
          "name": "stdout"
        }
      ]
    },
    {
      "cell_type": "code",
      "metadata": {
        "id": "Zp6SuGrL9M3h",
        "colab_type": "code",
        "colab": {
          "base_uri": "https://localhost:8080/",
          "height": 105
        },
        "outputId": "01209f17-0e48-4402-b0c0-3f91654a7fe5"
      },
      "source": [
        "model.compile(loss='categorical_crossentropy',\n",
        "             optimizer='adam',\n",
        "             metrics=['accuracy'])"
      ],
      "execution_count": 12,
      "outputs": [
        {
          "output_type": "stream",
          "text": [
            "W0617 09:52:18.019982 140639792514944 deprecation_wrapper.py:119] From /usr/local/lib/python3.6/dist-packages/keras/optimizers.py:790: The name tf.train.Optimizer is deprecated. Please use tf.compat.v1.train.Optimizer instead.\n",
            "\n",
            "W0617 09:52:18.077985 140639792514944 deprecation_wrapper.py:119] From /usr/local/lib/python3.6/dist-packages/keras/backend/tensorflow_backend.py:3295: The name tf.log is deprecated. Please use tf.math.log instead.\n",
            "\n"
          ],
          "name": "stderr"
        }
      ]
    },
    {
      "cell_type": "code",
      "metadata": {
        "id": "4xWoKhPY9Of5",
        "colab_type": "code",
        "outputId": "72aff08d-c28d-452d-ef1e-140fee51c827",
        "colab": {
          "base_uri": "https://localhost:8080/",
          "height": 1550
        }
      },
      "source": [
        "model.fit(X_train, Y_train, batch_size=32, nb_epoch=40, verbose=1, validation_data=(X_test, Y_test))"
      ],
      "execution_count": 13,
      "outputs": [
        {
          "output_type": "stream",
          "text": [
            "/usr/local/lib/python3.6/dist-packages/ipykernel_launcher.py:1: UserWarning: The `nb_epoch` argument in `fit` has been renamed `epochs`.\n",
            "  \"\"\"Entry point for launching an IPython kernel.\n",
            "W0617 09:52:19.069218 140639792514944 deprecation.py:323] From /usr/local/lib/python3.6/dist-packages/tensorflow/python/ops/math_grad.py:1250: add_dispatch_support.<locals>.wrapper (from tensorflow.python.ops.array_ops) is deprecated and will be removed in a future version.\n",
            "Instructions for updating:\n",
            "Use tf.where in 2.0, which has the same broadcast rule as np.where\n",
            "W0617 09:52:19.223448 140639792514944 deprecation_wrapper.py:119] From /usr/local/lib/python3.6/dist-packages/keras/backend/tensorflow_backend.py:986: The name tf.assign_add is deprecated. Please use tf.compat.v1.assign_add instead.\n",
            "\n"
          ],
          "name": "stderr"
        },
        {
          "output_type": "stream",
          "text": [
            "Train on 60000 samples, validate on 10000 samples\n",
            "Epoch 1/40\n",
            "60000/60000 [==============================] - 43s 712us/step - loss: 0.2127 - acc: 0.9326 - val_loss: 0.0717 - val_acc: 0.9777\n",
            "Epoch 2/40\n",
            "60000/60000 [==============================] - 40s 661us/step - loss: 0.0661 - acc: 0.9804 - val_loss: 0.0536 - val_acc: 0.9827\n",
            "Epoch 3/40\n",
            "60000/60000 [==============================] - 40s 663us/step - loss: 0.0480 - acc: 0.9853 - val_loss: 0.0408 - val_acc: 0.9882\n",
            "Epoch 4/40\n",
            "60000/60000 [==============================] - 40s 663us/step - loss: 0.0400 - acc: 0.9872 - val_loss: 0.0357 - val_acc: 0.9889\n",
            "Epoch 5/40\n",
            "60000/60000 [==============================] - 33s 555us/step - loss: 0.0324 - acc: 0.9896 - val_loss: 0.0313 - val_acc: 0.9912\n",
            "Epoch 6/40\n",
            "60000/60000 [==============================] - 20s 331us/step - loss: 0.0301 - acc: 0.9903 - val_loss: 0.0362 - val_acc: 0.9894\n",
            "Epoch 7/40\n",
            "60000/60000 [==============================] - 23s 388us/step - loss: 0.0254 - acc: 0.9921 - val_loss: 0.0358 - val_acc: 0.9889\n",
            "Epoch 8/40\n",
            "60000/60000 [==============================] - 22s 373us/step - loss: 0.0224 - acc: 0.9928 - val_loss: 0.0373 - val_acc: 0.9897\n",
            "Epoch 9/40\n",
            "60000/60000 [==============================] - 20s 331us/step - loss: 0.0199 - acc: 0.9938 - val_loss: 0.0308 - val_acc: 0.9908\n",
            "Epoch 10/40\n",
            "60000/60000 [==============================] - 20s 330us/step - loss: 0.0193 - acc: 0.9936 - val_loss: 0.0398 - val_acc: 0.9887\n",
            "Epoch 11/40\n",
            "60000/60000 [==============================] - 20s 334us/step - loss: 0.0171 - acc: 0.9945 - val_loss: 0.0303 - val_acc: 0.9908\n",
            "Epoch 12/40\n",
            "60000/60000 [==============================] - 20s 333us/step - loss: 0.0149 - acc: 0.9951 - val_loss: 0.0313 - val_acc: 0.9919\n",
            "Epoch 13/40\n",
            "60000/60000 [==============================] - 20s 332us/step - loss: 0.0142 - acc: 0.9955 - val_loss: 0.0293 - val_acc: 0.9915\n",
            "Epoch 14/40\n",
            "60000/60000 [==============================] - 20s 337us/step - loss: 0.0127 - acc: 0.9959 - val_loss: 0.0287 - val_acc: 0.9927\n",
            "Epoch 15/40\n",
            "60000/60000 [==============================] - 20s 331us/step - loss: 0.0118 - acc: 0.9960 - val_loss: 0.0348 - val_acc: 0.9911\n",
            "Epoch 16/40\n",
            "60000/60000 [==============================] - 20s 331us/step - loss: 0.0114 - acc: 0.9962 - val_loss: 0.0346 - val_acc: 0.9919\n",
            "Epoch 17/40\n",
            "60000/60000 [==============================] - 20s 329us/step - loss: 0.0103 - acc: 0.9964 - val_loss: 0.0356 - val_acc: 0.9917\n",
            "Epoch 18/40\n",
            "60000/60000 [==============================] - 20s 331us/step - loss: 0.0097 - acc: 0.9969 - val_loss: 0.0382 - val_acc: 0.9915\n",
            "Epoch 19/40\n",
            "60000/60000 [==============================] - 20s 330us/step - loss: 0.0080 - acc: 0.9972 - val_loss: 0.0376 - val_acc: 0.9917\n",
            "Epoch 20/40\n",
            "60000/60000 [==============================] - 20s 329us/step - loss: 0.0092 - acc: 0.9968 - val_loss: 0.0389 - val_acc: 0.9903\n",
            "Epoch 21/40\n",
            "60000/60000 [==============================] - 20s 330us/step - loss: 0.0093 - acc: 0.9967 - val_loss: 0.0439 - val_acc: 0.9902\n",
            "Epoch 22/40\n",
            "60000/60000 [==============================] - 20s 332us/step - loss: 0.0077 - acc: 0.9974 - val_loss: 0.0383 - val_acc: 0.9919\n",
            "Epoch 23/40\n",
            "60000/60000 [==============================] - 20s 330us/step - loss: 0.0071 - acc: 0.9978 - val_loss: 0.0387 - val_acc: 0.9915\n",
            "Epoch 24/40\n",
            "60000/60000 [==============================] - 20s 332us/step - loss: 0.0076 - acc: 0.9976 - val_loss: 0.0490 - val_acc: 0.9913\n",
            "Epoch 25/40\n",
            "60000/60000 [==============================] - 20s 331us/step - loss: 0.0083 - acc: 0.9972 - val_loss: 0.0351 - val_acc: 0.9922\n",
            "Epoch 26/40\n",
            "60000/60000 [==============================] - 20s 330us/step - loss: 0.0072 - acc: 0.9977 - val_loss: 0.0405 - val_acc: 0.9917\n",
            "Epoch 27/40\n",
            "60000/60000 [==============================] - 20s 333us/step - loss: 0.0073 - acc: 0.9977 - val_loss: 0.0494 - val_acc: 0.9894\n",
            "Epoch 28/40\n",
            "60000/60000 [==============================] - 20s 331us/step - loss: 0.0070 - acc: 0.9978 - val_loss: 0.0449 - val_acc: 0.9915\n",
            "Epoch 29/40\n",
            "60000/60000 [==============================] - 20s 331us/step - loss: 0.0067 - acc: 0.9978 - val_loss: 0.0449 - val_acc: 0.9922\n",
            "Epoch 30/40\n",
            "60000/60000 [==============================] - 20s 336us/step - loss: 0.0074 - acc: 0.9975 - val_loss: 0.0492 - val_acc: 0.9909\n",
            "Epoch 31/40\n",
            "60000/60000 [==============================] - 20s 331us/step - loss: 0.0066 - acc: 0.9979 - val_loss: 0.0453 - val_acc: 0.9917\n",
            "Epoch 32/40\n",
            "60000/60000 [==============================] - 20s 330us/step - loss: 0.0057 - acc: 0.9981 - val_loss: 0.0545 - val_acc: 0.9901\n",
            "Epoch 33/40\n",
            "60000/60000 [==============================] - 20s 331us/step - loss: 0.0071 - acc: 0.9976 - val_loss: 0.0527 - val_acc: 0.9909\n",
            "Epoch 34/40\n",
            "60000/60000 [==============================] - 20s 332us/step - loss: 0.0051 - acc: 0.9983 - val_loss: 0.0441 - val_acc: 0.9916\n",
            "Epoch 35/40\n",
            "60000/60000 [==============================] - 20s 330us/step - loss: 0.0063 - acc: 0.9980 - val_loss: 0.0453 - val_acc: 0.9921\n",
            "Epoch 36/40\n",
            "60000/60000 [==============================] - 20s 330us/step - loss: 0.0065 - acc: 0.9981 - val_loss: 0.0486 - val_acc: 0.9919\n",
            "Epoch 37/40\n",
            "60000/60000 [==============================] - 20s 331us/step - loss: 0.0059 - acc: 0.9980 - val_loss: 0.0582 - val_acc: 0.9895\n",
            "Epoch 38/40\n",
            "60000/60000 [==============================] - 20s 330us/step - loss: 0.0049 - acc: 0.9985 - val_loss: 0.0503 - val_acc: 0.9917\n",
            "Epoch 39/40\n",
            "60000/60000 [==============================] - 20s 331us/step - loss: 0.0069 - acc: 0.9979 - val_loss: 0.0553 - val_acc: 0.9905\n",
            "Epoch 40/40\n",
            "60000/60000 [==============================] - 20s 331us/step - loss: 0.0057 - acc: 0.9981 - val_loss: 0.0522 - val_acc: 0.9912\n"
          ],
          "name": "stdout"
        },
        {
          "output_type": "execute_result",
          "data": {
            "text/plain": [
              "<keras.callbacks.History at 0x7fe8f9729358>"
            ]
          },
          "metadata": {
            "tags": []
          },
          "execution_count": 13
        }
      ]
    },
    {
      "cell_type": "code",
      "metadata": {
        "id": "AtsH-lLk-eLb",
        "colab_type": "code",
        "colab": {}
      },
      "source": [
        "score = model.evaluate(X_test, Y_test, verbose=0)"
      ],
      "execution_count": 0,
      "outputs": []
    },
    {
      "cell_type": "code",
      "metadata": {
        "id": "mkX8JMv79q9r",
        "colab_type": "code",
        "outputId": "9cc9bdd8-1b40-4e8f-f6f3-727268d2ede4",
        "colab": {
          "base_uri": "https://localhost:8080/",
          "height": 34
        }
      },
      "source": [
        "print(score)"
      ],
      "execution_count": 15,
      "outputs": [
        {
          "output_type": "stream",
          "text": [
            "[0.05222672466191166, 0.9912]\n"
          ],
          "name": "stdout"
        }
      ]
    },
    {
      "cell_type": "code",
      "metadata": {
        "id": "OCWoJkwE9suh",
        "colab_type": "code",
        "colab": {}
      },
      "source": [
        "y_pred = model.predict(X_test)"
      ],
      "execution_count": 0,
      "outputs": []
    },
    {
      "cell_type": "code",
      "metadata": {
        "id": "Ym7iCFBm9uBs",
        "colab_type": "code",
        "outputId": "2366cf37-837c-4c0b-f119-d2f6f03ceac0",
        "colab": {
          "base_uri": "https://localhost:8080/",
          "height": 493
        }
      },
      "source": [
        "print(y_pred[:9])\n",
        "print(y_test[:9])"
      ],
      "execution_count": 17,
      "outputs": [
        {
          "output_type": "stream",
          "text": [
            "[[2.83248643e-26 2.71281485e-28 1.54728137e-17 5.38819092e-19\n",
            "  7.68169281e-25 7.91405167e-26 9.48293976e-34 1.00000000e+00\n",
            "  3.17457251e-25 6.41285341e-20]\n",
            " [3.98980510e-17 1.18370919e-20 1.00000000e+00 2.30686423e-20\n",
            "  2.54345647e-17 5.37402043e-29 9.25795041e-23 1.50137242e-30\n",
            "  1.45467304e-14 1.66998580e-27]\n",
            " [2.13349769e-15 9.99999881e-01 1.08178588e-11 4.71740092e-15\n",
            "  8.76929285e-09 1.36787855e-11 6.20384657e-13 9.18702412e-08\n",
            "  2.65791729e-11 4.82341828e-14]\n",
            " [1.00000000e+00 4.41232687e-29 1.10940585e-15 1.33924958e-17\n",
            "  1.55363180e-27 4.38782415e-20 5.09450759e-10 1.36178098e-20\n",
            "  3.41852571e-16 4.02389893e-20]\n",
            " [1.16921840e-27 8.24866358e-28 4.23959922e-24 3.26716630e-35\n",
            "  1.00000000e+00 2.47740347e-23 1.13623122e-21 2.98975027e-34\n",
            "  6.44518371e-18 1.46979556e-13]\n",
            " [2.17704683e-15 9.99999881e-01 6.58239652e-12 3.28028191e-18\n",
            "  1.04353459e-08 1.11427219e-12 3.42536524e-16 1.04287651e-07\n",
            "  1.82236539e-12 5.67789012e-15]\n",
            " [1.06338716e-36 2.24855880e-26 7.24289958e-24 2.20478731e-36\n",
            "  1.00000000e+00 3.68559845e-28 2.61397523e-31 5.80464266e-25\n",
            "  5.40044355e-12 1.62994296e-14]\n",
            " [2.09846068e-21 5.77490157e-22 1.22168199e-17 5.50338990e-15\n",
            "  2.07478197e-12 1.65073897e-14 1.08654671e-29 3.14786975e-20\n",
            "  7.98167193e-16 1.00000000e+00]\n",
            " [3.47324404e-17 2.54171189e-23 1.30980703e-19 4.67586652e-24\n",
            "  4.10945855e-23 9.98455882e-01 1.54415355e-03 8.32945842e-26\n",
            "  1.20064252e-08 1.74852333e-17]]\n",
            "[7 2 1 0 4 1 4 9 5]\n"
          ],
          "name": "stdout"
        }
      ]
    },
    {
      "cell_type": "code",
      "metadata": {
        "id": "CT--y98_dr2T",
        "colab_type": "code",
        "colab": {}
      },
      "source": [
        "layer_dict = dict([(layer.name, layer) for layer in model.layers])"
      ],
      "execution_count": 0,
      "outputs": []
    },
    {
      "cell_type": "code",
      "metadata": {
        "id": "2GY4Upv4dsUR",
        "colab_type": "code",
        "outputId": "79827e9d-666c-4018-a081-f9203391424d",
        "colab": {
          "base_uri": "https://localhost:8080/",
          "height": 741
        }
      },
      "source": [
        "import numpy as np\n",
        "from matplotlib import pyplot as plt\n",
        "from keras import backend as K\n",
        "%matplotlib inline\n",
        "# util function to convert a tensor into a valid image\n",
        "def deprocess_image(x):\n",
        "    # normalize tensor: center on 0., ensure std is 0.1\n",
        "    x -= x.mean()\n",
        "    x /= (x.std() + 1e-5)\n",
        "    x *= 0.1\n",
        "\n",
        "    # clip to [0, 1]\n",
        "    x += 0.5\n",
        "    x = np.clip(x, 0, 1)\n",
        "\n",
        "    # convert to RGB array\n",
        "    x *= 255\n",
        "    #x = x.transpose((1, 2, 0))\n",
        "    x = np.clip(x, 0, 255).astype('uint8')\n",
        "    return x\n",
        "\n",
        "def vis_img_in_filter(img = np.array(X_train[2]).reshape((1, 28, 28, 1)).astype(np.float64), \n",
        "                      layer_name = 'conv2d_4'):\n",
        "    layer_output = layer_dict[layer_name].output\n",
        "    img_ascs = list()\n",
        "    for filter_index in range(layer_output.shape[3]):\n",
        "        # build a loss function that maximizes the activation\n",
        "        # of the nth filter of the layer considered\n",
        "        loss = K.mean(layer_output[:, :, :, filter_index])\n",
        "\n",
        "        # compute the gradient of the input picture wrt this loss\n",
        "        grads = K.gradients(loss, model.input)[0]\n",
        "\n",
        "        # normalization trick: we normalize the gradient\n",
        "        grads /= (K.sqrt(K.mean(K.square(grads))) + 1e-5)\n",
        "\n",
        "        # this function returns the loss and grads given the input picture\n",
        "        iterate = K.function([model.input], [loss, grads])\n",
        "\n",
        "        # step size for gradient ascent\n",
        "        step = 5.\n",
        "\n",
        "        img_asc = np.array(img)\n",
        "        # run gradient ascent for 20 steps\n",
        "        for i in range(20):\n",
        "            loss_value, grads_value = iterate([img_asc])\n",
        "            img_asc += grads_value * step\n",
        "\n",
        "        img_asc = img_asc[0]\n",
        "        img_ascs.append(deprocess_image(img_asc).reshape((28, 28)))\n",
        "        \n",
        "    if layer_output.shape[3] >= 35:\n",
        "        plot_x, plot_y = 6, 6\n",
        "    elif layer_output.shape[3] >= 23:\n",
        "        plot_x, plot_y = 4, 6\n",
        "    elif layer_output.shape[3] >= 11:\n",
        "        plot_x, plot_y = 2, 6\n",
        "    else:\n",
        "        plot_x, plot_y = 1, 2\n",
        "    fig, ax = plt.subplots(plot_x, plot_y, figsize = (12, 12))\n",
        "    ax[0, 0].imshow(img.reshape((28, 28)), cmap = 'gray')\n",
        "    ax[0, 0].set_title('Input image')\n",
        "    fig.suptitle('Input image and %s filters' % (layer_name,))\n",
        "    fig.tight_layout(pad = 0.3, rect = [0, 0, 0.9, 0.9])\n",
        "    for (x, y) in [(i, j) for i in range(plot_x) for j in range(plot_y)]:\n",
        "        if x == 0 and y == 0:\n",
        "            continue\n",
        "        ax[x, y].imshow(img_ascs[x * plot_y + y - 1], cmap = 'gray')\n",
        "        ax[x, y].set_title('filter %d' % (x * plot_y + y - 1))\n",
        "\n",
        "vis_img_in_filter()"
      ],
      "execution_count": 20,
      "outputs": [
        {
          "output_type": "display_data",
          "data": {
            "image/png": "[encoded data removed]",
            "text/plain": [
              "<Figure size 864x864 with 12 Axes>"
            ]
          },
          "metadata": {
            "tags": []
          }
        }
      ]
    },
    {
      "cell_type": "code",
      "metadata": {
        "id": "9tvptcn8dxvp",
        "colab_type": "code",
        "colab": {}
      },
      "source": [
        ""
      ],
      "execution_count": 0,
      "outputs": []
    },
    {
      "cell_type": "markdown",
      "metadata": {
        "id": "5PU33MBuTwhC",
        "colab_type": "text"
      },
      "source": [
        "Objective :\n",
        "\n",
        "**Transition Layer:**\n",
        "how we arrive at 'Position of Transition Layer'... In an ideal sense, it should be placed after identifying the edges & gradients, after pattens, after paths of objects etc.... I think it should go based on the receptive field; what the network has seen and then deciding where this layer should be placed... Max pooling along with 1x1 forms the transition layer. .\n",
        "\n",
        "\n",
        "**Changes made:**\n",
        "Our aim over the four notebooks is to make sure that we reach an accuracy of at least 99.4% with lesss than 15k parameters. Each improvement of ours will move in that direction of either reduction in number of parameters or improvement in accuracy or both.\n",
        "\n",
        "1.   Training for 40 epochs\n",
        "2.   Reduced channels per layer, we dont need so many parameters to be learnt for mnist.\n",
        "3.   Add more 3x3 conv layers to remove final 7x7 conv layer. It is not recommanded to use any kernel other than 3x3 in general.\n",
        "\n",
        "\n",
        "Here we managed to get a good accuracy of 99.1% with less number of parameters, due to less batch size running 32 for more epochs 40."
      ]
    }
  ]
}