{
  "nbformat": 4,
  "nbformat_minor": 0,
  "metadata": {
    "colab": {
      "name": "Third DNN.ipynb",
      "version": "0.3.2",
      "provenance": [],
      "collapsed_sections": []
    },
    "kernelspec": {
      "name": "python3",
      "display_name": "Python 3"
    },
    "accelerator": "GPU"
  },
  "cells": [
    {
      "cell_type": "markdown",
      "metadata": {
        "id": "aNyZv-Ec52ot",
        "colab_type": "text"
      },
      "source": [
        "# **Import Libraries and modules**"
      ]
    },
    {
      "cell_type": "code",
      "metadata": {
        "id": "3m3w1Cw49Zkt",
        "colab_type": "code",
        "colab": {}
      },
      "source": [
        "# https://keras.io/\n",
        "!pip install -q keras\n",
        "import keras"
      ],
      "execution_count": 0,
      "outputs": []
    },
    {
      "cell_type": "code",
      "metadata": {
        "id": "Eso6UHE080D4",
        "colab_type": "code",
        "colab": {}
      },
      "source": [
        "import numpy as np\n",
        "\n",
        "from keras.models import Sequential\n",
        "from keras.layers import Dense, Dropout, Activation, Flatten, Add\n",
        "from keras.layers import Convolution2D, MaxPooling2D\n",
        "from keras.utils import np_utils\n",
        "\n",
        "from keras.datasets import mnist"
      ],
      "execution_count": 0,
      "outputs": []
    },
    {
      "cell_type": "markdown",
      "metadata": {
        "id": "zByEi95J86RD",
        "colab_type": "text"
      },
      "source": [
        "### Load pre-shuffled MNIST data into train and test sets"
      ]
    },
    {
      "cell_type": "code",
      "metadata": {
        "id": "7eRM0QWN83PV",
        "colab_type": "code",
        "colab": {
          "base_uri": "https://localhost:8080/",
          "height": 51
        },
        "outputId": "746f14d5-47d9-4cc1-ffcd-0bc59c557377"
      },
      "source": [
        "(X_train, y_train), (X_test, y_test) = mnist.load_data()"
      ],
      "execution_count": 4,
      "outputs": [
        {
          "output_type": "stream",
          "text": [
            "Downloading data from https://s3.amazonaws.com/img-datasets/mnist.npz\n",
            "11493376/11490434 [==============================] - 1s 0us/step\n"
          ],
          "name": "stdout"
        }
      ]
    },
    {
      "cell_type": "code",
      "metadata": {
        "id": "4a4Be72j8-ZC",
        "colab_type": "code",
        "outputId": "b27f3b57-9d52-4cdc-fac2-efe7d34bc213",
        "colab": {
          "base_uri": "https://localhost:8080/",
          "height": 303
        }
      },
      "source": [
        "print (X_train.shape)\n",
        "from matplotlib import pyplot as plt\n",
        "%matplotlib inline\n",
        "plt.imshow(X_train[0])"
      ],
      "execution_count": 5,
      "outputs": [
        {
          "output_type": "stream",
          "text": [
            "(60000, 28, 28)\n"
          ],
          "name": "stdout"
        },
        {
          "output_type": "execute_result",
          "data": {
            "text/plain": [
              "<matplotlib.image.AxesImage at 0x7f4f90b3f470>"
            ]
          },
          "metadata": {
            "tags": []
          },
          "execution_count": 5
        },
        {
          "output_type": "display_data",
          "data": {
            "image/png": "[encoded data removed]",
            "text/plain": [
              "<Figure size 432x288 with 1 Axes>"
            ]
          },
          "metadata": {
            "tags": []
          }
        }
      ]
    },
    {
      "cell_type": "code",
      "metadata": {
        "id": "dkmprriw9AnZ",
        "colab_type": "code",
        "colab": {}
      },
      "source": [
        "X_train = X_train.reshape(X_train.shape[0], 28, 28,1)\n",
        "X_test = X_test.reshape(X_test.shape[0], 28, 28,1)"
      ],
      "execution_count": 0,
      "outputs": []
    },
    {
      "cell_type": "code",
      "metadata": {
        "id": "X2m4YS4E9CRh",
        "colab_type": "code",
        "colab": {}
      },
      "source": [
        "X_train = X_train.astype('float32')\n",
        "X_test = X_test.astype('float32')\n",
        "X_train /= 255\n",
        "X_test /= 255"
      ],
      "execution_count": 0,
      "outputs": []
    },
    {
      "cell_type": "code",
      "metadata": {
        "id": "0Mn0vAYD9DvB",
        "colab_type": "code",
        "outputId": "511adaa8-523f-4b17-ca80-59a7d80b2670",
        "colab": {
          "base_uri": "https://localhost:8080/",
          "height": 34
        }
      },
      "source": [
        "y_train[:10]"
      ],
      "execution_count": 8,
      "outputs": [
        {
          "output_type": "execute_result",
          "data": {
            "text/plain": [
              "array([5, 0, 4, 1, 9, 2, 1, 3, 1, 4], dtype=uint8)"
            ]
          },
          "metadata": {
            "tags": []
          },
          "execution_count": 8
        }
      ]
    },
    {
      "cell_type": "code",
      "metadata": {
        "id": "ZG8JiXR39FHC",
        "colab_type": "code",
        "colab": {}
      },
      "source": [
        "# Convert 1-dimensional class arrays to 10-dimensional class matrices\n",
        "Y_train = np_utils.to_categorical(y_train, 10)\n",
        "Y_test = np_utils.to_categorical(y_test, 10)"
      ],
      "execution_count": 0,
      "outputs": []
    },
    {
      "cell_type": "code",
      "metadata": {
        "id": "fYlFRvKS9HMB",
        "colab_type": "code",
        "outputId": "94f0b8f4-1ae6-49df-9d42-9fecc1f935a6",
        "colab": {
          "base_uri": "https://localhost:8080/",
          "height": 187
        }
      },
      "source": [
        "Y_train[:10]\n"
      ],
      "execution_count": 10,
      "outputs": [
        {
          "output_type": "execute_result",
          "data": {
            "text/plain": [
              "array([[0., 0., 0., 0., 0., 1., 0., 0., 0., 0.],\n",
              "       [1., 0., 0., 0., 0., 0., 0., 0., 0., 0.],\n",
              "       [0., 0., 0., 0., 1., 0., 0., 0., 0., 0.],\n",
              "       [0., 1., 0., 0., 0., 0., 0., 0., 0., 0.],\n",
              "       [0., 0., 0., 0., 0., 0., 0., 0., 0., 1.],\n",
              "       [0., 0., 1., 0., 0., 0., 0., 0., 0., 0.],\n",
              "       [0., 1., 0., 0., 0., 0., 0., 0., 0., 0.],\n",
              "       [0., 0., 0., 1., 0., 0., 0., 0., 0., 0.],\n",
              "       [0., 1., 0., 0., 0., 0., 0., 0., 0., 0.],\n",
              "       [0., 0., 0., 0., 1., 0., 0., 0., 0., 0.]], dtype=float32)"
            ]
          },
          "metadata": {
            "tags": []
          },
          "execution_count": 10
        }
      ]
    },
    {
      "cell_type": "code",
      "metadata": {
        "id": "WJPV7REAL5A_",
        "colab_type": "code",
        "outputId": "7bece374-629d-4d56-b1eb-23ad475b7839",
        "colab": {
          "base_uri": "https://localhost:8080/",
          "height": 904
        }
      },
      "source": [
        "from keras.layers import Activation\n",
        "model = Sequential()\n",
        "\n",
        "# input layer and the first conv layer \n",
        "model.add(Convolution2D(8, 3, 3, activation='relu', input_shape=(28,28,1))) # 26\n",
        "\n",
        "# first conv block\n",
        "model.add(Convolution2D(16, 3, 3, activation='relu')) # 24\n",
        "model.add(Convolution2D(32, 3, 3, activation='relu')) # 22\n",
        "\n",
        "# first transition block\n",
        "model.add(MaxPooling2D(pool_size=(2, 2))) # 11\n",
        "model.add(Convolution2D(8, 1, 1, activation='relu')) # 11\n",
        "\n",
        "# second conv block\n",
        "model.add(Convolution2D(16, 3, 3, activation='relu')) # 9\n",
        "model.add(Convolution2D(32, 3, 3, activation='relu')) # 7\n",
        "\n",
        "# second transition block\n",
        "model.add(MaxPooling2D(pool_size=(2, 2))) # 3\n",
        "\n",
        "# Last conv block flowed by softmax\n",
        "model.add(Convolution2D(10, 1, activation='relu')) # 3\n",
        "model.add(Convolution2D(10, 3)) # 1\n",
        "model.add(Flatten())\n",
        "model.add(Activation('softmax'))\n",
        "\n",
        "model.summary()"
      ],
      "execution_count": 11,
      "outputs": [
        {
          "output_type": "stream",
          "text": [
            "WARNING: Logging before flag parsing goes to stderr.\n",
            "W0617 07:22:40.075563 139980856981376 deprecation_wrapper.py:119] From /usr/local/lib/python3.6/dist-packages/keras/backend/tensorflow_backend.py:74: The name tf.get_default_graph is deprecated. Please use tf.compat.v1.get_default_graph instead.\n",
            "\n",
            "/usr/local/lib/python3.6/dist-packages/ipykernel_launcher.py:5: UserWarning: Update your `Conv2D` call to the Keras 2 API: `Conv2D(8, (3, 3), activation=\"relu\", input_shape=(28, 28, 1...)`\n",
            "  \"\"\"\n",
            "W0617 07:22:40.110299 139980856981376 deprecation_wrapper.py:119] From /usr/local/lib/python3.6/dist-packages/keras/backend/tensorflow_backend.py:517: The name tf.placeholder is deprecated. Please use tf.compat.v1.placeholder instead.\n",
            "\n",
            "W0617 07:22:40.116645 139980856981376 deprecation_wrapper.py:119] From /usr/local/lib/python3.6/dist-packages/keras/backend/tensorflow_backend.py:4138: The name tf.random_uniform is deprecated. Please use tf.random.uniform instead.\n",
            "\n",
            "/usr/local/lib/python3.6/dist-packages/ipykernel_launcher.py:8: UserWarning: Update your `Conv2D` call to the Keras 2 API: `Conv2D(16, (3, 3), activation=\"relu\")`\n",
            "  \n",
            "/usr/local/lib/python3.6/dist-packages/ipykernel_launcher.py:9: UserWarning: Update your `Conv2D` call to the Keras 2 API: `Conv2D(32, (3, 3), activation=\"relu\")`\n",
            "  if __name__ == '__main__':\n",
            "W0617 07:22:40.165597 139980856981376 deprecation_wrapper.py:119] From /usr/local/lib/python3.6/dist-packages/keras/backend/tensorflow_backend.py:3976: The name tf.nn.max_pool is deprecated. Please use tf.nn.max_pool2d instead.\n",
            "\n"
          ],
          "name": "stderr"
        },
        {
          "output_type": "stream",
          "text": [
            "_________________________________________________________________\n",
            "Layer (type)                 Output Shape              Param #   \n",
            "=================================================================\n",
            "conv2d_1 (Conv2D)            (None, 26, 26, 8)         80        \n",
            "_________________________________________________________________\n",
            "conv2d_2 (Conv2D)            (None, 24, 24, 16)        1168      \n",
            "_________________________________________________________________\n",
            "conv2d_3 (Conv2D)            (None, 22, 22, 32)        4640      \n",
            "_________________________________________________________________\n",
            "max_pooling2d_1 (MaxPooling2 (None, 11, 11, 32)        0         \n",
            "_________________________________________________________________\n",
            "conv2d_4 (Conv2D)            (None, 11, 11, 8)         264       \n",
            "_________________________________________________________________\n",
            "conv2d_5 (Conv2D)            (None, 9, 9, 16)          1168      \n",
            "_________________________________________________________________\n",
            "conv2d_6 (Conv2D)            (None, 7, 7, 32)          4640      \n",
            "_________________________________________________________________\n",
            "max_pooling2d_2 (MaxPooling2 (None, 3, 3, 32)          0         \n",
            "_________________________________________________________________\n",
            "conv2d_7 (Conv2D)            (None, 3, 3, 10)          330       \n",
            "_________________________________________________________________\n",
            "conv2d_8 (Conv2D)            (None, 1, 1, 10)          910       \n",
            "_________________________________________________________________\n",
            "flatten_1 (Flatten)          (None, 10)                0         \n",
            "_________________________________________________________________\n",
            "activation_1 (Activation)    (None, 10)                0         \n",
            "=================================================================\n",
            "Total params: 13,200\n",
            "Trainable params: 13,200\n",
            "Non-trainable params: 0\n",
            "_________________________________________________________________\n"
          ],
          "name": "stdout"
        },
        {
          "output_type": "stream",
          "text": [
            "/usr/local/lib/python3.6/dist-packages/ipykernel_launcher.py:13: UserWarning: Update your `Conv2D` call to the Keras 2 API: `Conv2D(8, (1, 1), activation=\"relu\")`\n",
            "  del sys.path[0]\n",
            "/usr/local/lib/python3.6/dist-packages/ipykernel_launcher.py:16: UserWarning: Update your `Conv2D` call to the Keras 2 API: `Conv2D(16, (3, 3), activation=\"relu\")`\n",
            "  app.launch_new_instance()\n",
            "/usr/local/lib/python3.6/dist-packages/ipykernel_launcher.py:17: UserWarning: Update your `Conv2D` call to the Keras 2 API: `Conv2D(32, (3, 3), activation=\"relu\")`\n"
          ],
          "name": "stderr"
        }
      ]
    },
    {
      "cell_type": "code",
      "metadata": {
        "id": "osKqT73Q9JJB",
        "colab_type": "code",
        "outputId": "9f64618b-dd78-4d56-bc3b-ed8a0e0a9bfb",
        "colab": {
          "base_uri": "https://localhost:8080/",
          "height": 751
        }
      },
      "source": [
        "from keras.layers import Activation\n",
        "model = Sequential()\n",
        "\n",
        "# input layer and the first conv layer \n",
        "model.add(Convolution2D(10, 3, 3, activation='relu', input_shape=(28,28,1))) # 26\n",
        "\n",
        "# first conv block\n",
        "model.add(Convolution2D(16, 3, 3, activation='relu')) # 24\n",
        "model.add(Convolution2D(24, 3, 3, activation='relu')) # 22\n",
        "\n",
        "# first transition block\n",
        "model.add(MaxPooling2D(pool_size=(2, 2))) # 11\n",
        "model.add(Convolution2D(10, 1, 1, activation='relu')) # 11\n",
        "\n",
        "# second conv block\n",
        "model.add(Convolution2D(16, 3, 3, activation='relu')) # 9\n",
        "model.add(Convolution2D(24, 3, 3, activation='relu')) # 7\n",
        "\n",
        "# second transition block\n",
        "model.add(MaxPooling2D(pool_size=(2, 2))) # 3\n",
        "\n",
        "# Last conv block flowed by softmax\n",
        "model.add(Convolution2D(10, 1, activation='relu')) # 3\n",
        "model.add(Convolution2D(10, 3)) # 1\n",
        "model.add(Flatten())\n",
        "model.add(Activation('softmax'))\n",
        "\n",
        "model.summary()"
      ],
      "execution_count": 12,
      "outputs": [
        {
          "output_type": "stream",
          "text": [
            "/usr/local/lib/python3.6/dist-packages/ipykernel_launcher.py:5: UserWarning: Update your `Conv2D` call to the Keras 2 API: `Conv2D(10, (3, 3), activation=\"relu\", input_shape=(28, 28, 1...)`\n",
            "  \"\"\"\n",
            "/usr/local/lib/python3.6/dist-packages/ipykernel_launcher.py:8: UserWarning: Update your `Conv2D` call to the Keras 2 API: `Conv2D(16, (3, 3), activation=\"relu\")`\n",
            "  \n",
            "/usr/local/lib/python3.6/dist-packages/ipykernel_launcher.py:9: UserWarning: Update your `Conv2D` call to the Keras 2 API: `Conv2D(24, (3, 3), activation=\"relu\")`\n",
            "  if __name__ == '__main__':\n",
            "/usr/local/lib/python3.6/dist-packages/ipykernel_launcher.py:13: UserWarning: Update your `Conv2D` call to the Keras 2 API: `Conv2D(10, (1, 1), activation=\"relu\")`\n",
            "  del sys.path[0]\n",
            "/usr/local/lib/python3.6/dist-packages/ipykernel_launcher.py:16: UserWarning: Update your `Conv2D` call to the Keras 2 API: `Conv2D(16, (3, 3), activation=\"relu\")`\n",
            "  app.launch_new_instance()\n",
            "/usr/local/lib/python3.6/dist-packages/ipykernel_launcher.py:17: UserWarning: Update your `Conv2D` call to the Keras 2 API: `Conv2D(24, (3, 3), activation=\"relu\")`\n"
          ],
          "name": "stderr"
        },
        {
          "output_type": "stream",
          "text": [
            "_________________________________________________________________\n",
            "Layer (type)                 Output Shape              Param #   \n",
            "=================================================================\n",
            "conv2d_9 (Conv2D)            (None, 26, 26, 10)        100       \n",
            "_________________________________________________________________\n",
            "conv2d_10 (Conv2D)           (None, 24, 24, 16)        1456      \n",
            "_________________________________________________________________\n",
            "conv2d_11 (Conv2D)           (None, 22, 22, 24)        3480      \n",
            "_________________________________________________________________\n",
            "max_pooling2d_3 (MaxPooling2 (None, 11, 11, 24)        0         \n",
            "_________________________________________________________________\n",
            "conv2d_12 (Conv2D)           (None, 11, 11, 10)        250       \n",
            "_________________________________________________________________\n",
            "conv2d_13 (Conv2D)           (None, 9, 9, 16)          1456      \n",
            "_________________________________________________________________\n",
            "conv2d_14 (Conv2D)           (None, 7, 7, 24)          3480      \n",
            "_________________________________________________________________\n",
            "max_pooling2d_4 (MaxPooling2 (None, 3, 3, 24)          0         \n",
            "_________________________________________________________________\n",
            "conv2d_15 (Conv2D)           (None, 3, 3, 10)          250       \n",
            "_________________________________________________________________\n",
            "conv2d_16 (Conv2D)           (None, 1, 1, 10)          910       \n",
            "_________________________________________________________________\n",
            "flatten_2 (Flatten)          (None, 10)                0         \n",
            "_________________________________________________________________\n",
            "activation_2 (Activation)    (None, 10)                0         \n",
            "=================================================================\n",
            "Total params: 11,382\n",
            "Trainable params: 11,382\n",
            "Non-trainable params: 0\n",
            "_________________________________________________________________\n"
          ],
          "name": "stdout"
        }
      ]
    },
    {
      "cell_type": "code",
      "metadata": {
        "id": "Zp6SuGrL9M3h",
        "colab_type": "code",
        "colab": {
          "base_uri": "https://localhost:8080/",
          "height": 105
        },
        "outputId": "74476f9f-6f46-45db-93c0-a49077faf667"
      },
      "source": [
        "model.compile(loss='categorical_crossentropy',\n",
        "             optimizer='adam',\n",
        "             metrics=['accuracy'])"
      ],
      "execution_count": 13,
      "outputs": [
        {
          "output_type": "stream",
          "text": [
            "W0617 07:22:40.398964 139980856981376 deprecation_wrapper.py:119] From /usr/local/lib/python3.6/dist-packages/keras/optimizers.py:790: The name tf.train.Optimizer is deprecated. Please use tf.compat.v1.train.Optimizer instead.\n",
            "\n",
            "W0617 07:22:40.426291 139980856981376 deprecation_wrapper.py:119] From /usr/local/lib/python3.6/dist-packages/keras/backend/tensorflow_backend.py:3295: The name tf.log is deprecated. Please use tf.math.log instead.\n",
            "\n"
          ],
          "name": "stderr"
        }
      ]
    },
    {
      "cell_type": "code",
      "metadata": {
        "id": "4xWoKhPY9Of5",
        "colab_type": "code",
        "outputId": "f623a35c-d272-4e44-9568-a124d104bab8",
        "colab": {
          "base_uri": "https://localhost:8080/",
          "height": 1550
        }
      },
      "source": [
        "model.fit(X_train, Y_train, batch_size=128, nb_epoch=40, verbose=1, validation_data=(X_test, Y_test))"
      ],
      "execution_count": 14,
      "outputs": [
        {
          "output_type": "stream",
          "text": [
            "/usr/local/lib/python3.6/dist-packages/ipykernel_launcher.py:1: UserWarning: The `nb_epoch` argument in `fit` has been renamed `epochs`.\n",
            "  \"\"\"Entry point for launching an IPython kernel.\n",
            "W0617 07:22:40.548276 139980856981376 deprecation.py:323] From /usr/local/lib/python3.6/dist-packages/tensorflow/python/ops/math_grad.py:1250: add_dispatch_support.<locals>.wrapper (from tensorflow.python.ops.array_ops) is deprecated and will be removed in a future version.\n",
            "Instructions for updating:\n",
            "Use tf.where in 2.0, which has the same broadcast rule as np.where\n",
            "W0617 07:22:40.636404 139980856981376 deprecation_wrapper.py:119] From /usr/local/lib/python3.6/dist-packages/keras/backend/tensorflow_backend.py:986: The name tf.assign_add is deprecated. Please use tf.compat.v1.assign_add instead.\n",
            "\n"
          ],
          "name": "stderr"
        },
        {
          "output_type": "stream",
          "text": [
            "Train on 60000 samples, validate on 10000 samples\n",
            "Epoch 1/40\n",
            "60000/60000 [==============================] - 10s 163us/step - loss: 0.4725 - acc: 0.8521 - val_loss: 0.1382 - val_acc: 0.9578\n",
            "Epoch 2/40\n",
            "60000/60000 [==============================] - 4s 60us/step - loss: 0.1344 - acc: 0.9595 - val_loss: 0.1018 - val_acc: 0.9695\n",
            "Epoch 3/40\n",
            "60000/60000 [==============================] - 4s 60us/step - loss: 0.1032 - acc: 0.9690 - val_loss: 0.0835 - val_acc: 0.9765\n",
            "Epoch 4/40\n",
            "60000/60000 [==============================] - 4s 59us/step - loss: 0.0817 - acc: 0.9750 - val_loss: 0.0885 - val_acc: 0.9726\n",
            "Epoch 5/40\n",
            "60000/60000 [==============================] - 4s 58us/step - loss: 0.0698 - acc: 0.9790 - val_loss: 0.0561 - val_acc: 0.9829\n",
            "Epoch 6/40\n",
            "60000/60000 [==============================] - 4s 59us/step - loss: 0.0601 - acc: 0.9813 - val_loss: 0.0508 - val_acc: 0.9845\n",
            "Epoch 7/40\n",
            "60000/60000 [==============================] - 4s 59us/step - loss: 0.0528 - acc: 0.9835 - val_loss: 0.0463 - val_acc: 0.9858\n",
            "Epoch 8/40\n",
            "60000/60000 [==============================] - 4s 60us/step - loss: 0.0489 - acc: 0.9846 - val_loss: 0.0504 - val_acc: 0.9839\n",
            "Epoch 9/40\n",
            "60000/60000 [==============================] - 4s 59us/step - loss: 0.0451 - acc: 0.9856 - val_loss: 0.0432 - val_acc: 0.9856\n",
            "Epoch 10/40\n",
            "60000/60000 [==============================] - 4s 59us/step - loss: 0.0404 - acc: 0.9873 - val_loss: 0.0479 - val_acc: 0.9852\n",
            "Epoch 11/40\n",
            "60000/60000 [==============================] - 4s 59us/step - loss: 0.0384 - acc: 0.9878 - val_loss: 0.0433 - val_acc: 0.9869\n",
            "Epoch 12/40\n",
            "60000/60000 [==============================] - 4s 60us/step - loss: 0.0339 - acc: 0.9893 - val_loss: 0.0391 - val_acc: 0.9877\n",
            "Epoch 13/40\n",
            "60000/60000 [==============================] - 4s 60us/step - loss: 0.0338 - acc: 0.9893 - val_loss: 0.0488 - val_acc: 0.9849\n",
            "Epoch 14/40\n",
            "60000/60000 [==============================] - 4s 60us/step - loss: 0.0305 - acc: 0.9906 - val_loss: 0.0466 - val_acc: 0.9850\n",
            "Epoch 15/40\n",
            "60000/60000 [==============================] - 4s 61us/step - loss: 0.0294 - acc: 0.9908 - val_loss: 0.0445 - val_acc: 0.9868\n",
            "Epoch 16/40\n",
            "60000/60000 [==============================] - 4s 61us/step - loss: 0.0266 - acc: 0.9915 - val_loss: 0.0408 - val_acc: 0.9880\n",
            "Epoch 17/40\n",
            "60000/60000 [==============================] - 4s 61us/step - loss: 0.0262 - acc: 0.9920 - val_loss: 0.0369 - val_acc: 0.9893\n",
            "Epoch 18/40\n",
            "60000/60000 [==============================] - 4s 60us/step - loss: 0.0262 - acc: 0.9917 - val_loss: 0.0373 - val_acc: 0.9892\n",
            "Epoch 19/40\n",
            "60000/60000 [==============================] - 4s 59us/step - loss: 0.0226 - acc: 0.9928 - val_loss: 0.0374 - val_acc: 0.9886\n",
            "Epoch 20/40\n",
            "60000/60000 [==============================] - 4s 59us/step - loss: 0.0217 - acc: 0.9929 - val_loss: 0.0394 - val_acc: 0.9884\n",
            "Epoch 21/40\n",
            "60000/60000 [==============================] - 4s 59us/step - loss: 0.0210 - acc: 0.9927 - val_loss: 0.0484 - val_acc: 0.9861\n",
            "Epoch 22/40\n",
            "60000/60000 [==============================] - 4s 60us/step - loss: 0.0200 - acc: 0.9935 - val_loss: 0.0436 - val_acc: 0.9875\n",
            "Epoch 23/40\n",
            "60000/60000 [==============================] - 4s 61us/step - loss: 0.0181 - acc: 0.9939 - val_loss: 0.0519 - val_acc: 0.9850\n",
            "Epoch 24/40\n",
            "60000/60000 [==============================] - 4s 60us/step - loss: 0.0163 - acc: 0.9945 - val_loss: 0.0510 - val_acc: 0.9858\n",
            "Epoch 25/40\n",
            "60000/60000 [==============================] - 4s 60us/step - loss: 0.0168 - acc: 0.9944 - val_loss: 0.0416 - val_acc: 0.9878\n",
            "Epoch 26/40\n",
            "60000/60000 [==============================] - 4s 60us/step - loss: 0.0158 - acc: 0.9949 - val_loss: 0.0412 - val_acc: 0.9874\n",
            "Epoch 27/40\n",
            "60000/60000 [==============================] - 4s 60us/step - loss: 0.0159 - acc: 0.9947 - val_loss: 0.0516 - val_acc: 0.9870\n",
            "Epoch 28/40\n",
            "60000/60000 [==============================] - 4s 59us/step - loss: 0.0167 - acc: 0.9941 - val_loss: 0.0468 - val_acc: 0.9886\n",
            "Epoch 29/40\n",
            "60000/60000 [==============================] - 4s 59us/step - loss: 0.0140 - acc: 0.9950 - val_loss: 0.0472 - val_acc: 0.9882\n",
            "Epoch 30/40\n",
            "60000/60000 [==============================] - 4s 60us/step - loss: 0.0130 - acc: 0.9955 - val_loss: 0.0512 - val_acc: 0.9874\n",
            "Epoch 31/40\n",
            "60000/60000 [==============================] - 4s 61us/step - loss: 0.0125 - acc: 0.9958 - val_loss: 0.0482 - val_acc: 0.9888\n",
            "Epoch 32/40\n",
            "60000/60000 [==============================] - 4s 60us/step - loss: 0.0124 - acc: 0.9960 - val_loss: 0.0509 - val_acc: 0.9871\n",
            "Epoch 33/40\n",
            "60000/60000 [==============================] - 4s 61us/step - loss: 0.0125 - acc: 0.9958 - val_loss: 0.0464 - val_acc: 0.9890\n",
            "Epoch 34/40\n",
            "60000/60000 [==============================] - 4s 60us/step - loss: 0.0122 - acc: 0.9959 - val_loss: 0.0525 - val_acc: 0.9878\n",
            "Epoch 35/40\n",
            "60000/60000 [==============================] - 4s 61us/step - loss: 0.0112 - acc: 0.9958 - val_loss: 0.0508 - val_acc: 0.9881\n",
            "Epoch 36/40\n",
            "60000/60000 [==============================] - 4s 60us/step - loss: 0.0094 - acc: 0.9967 - val_loss: 0.0543 - val_acc: 0.9880\n",
            "Epoch 37/40\n",
            "60000/60000 [==============================] - 4s 60us/step - loss: 0.0126 - acc: 0.9955 - val_loss: 0.0607 - val_acc: 0.9857\n",
            "Epoch 38/40\n",
            "60000/60000 [==============================] - 4s 61us/step - loss: 0.0118 - acc: 0.9959 - val_loss: 0.0497 - val_acc: 0.9880\n",
            "Epoch 39/40\n",
            "60000/60000 [==============================] - 4s 61us/step - loss: 0.0073 - acc: 0.9976 - val_loss: 0.0648 - val_acc: 0.9865\n",
            "Epoch 40/40\n",
            "60000/60000 [==============================] - 4s 60us/step - loss: 0.0108 - acc: 0.9963 - val_loss: 0.0512 - val_acc: 0.9887\n"
          ],
          "name": "stdout"
        },
        {
          "output_type": "execute_result",
          "data": {
            "text/plain": [
              "<keras.callbacks.History at 0x7f4f90b71ef0>"
            ]
          },
          "metadata": {
            "tags": []
          },
          "execution_count": 14
        }
      ]
    },
    {
      "cell_type": "code",
      "metadata": {
        "id": "AtsH-lLk-eLb",
        "colab_type": "code",
        "colab": {}
      },
      "source": [
        "score = model.evaluate(X_test, Y_test, verbose=0)"
      ],
      "execution_count": 0,
      "outputs": []
    },
    {
      "cell_type": "code",
      "metadata": {
        "id": "mkX8JMv79q9r",
        "colab_type": "code",
        "outputId": "1182e9be-b649-4b82-8205-cb7bfbf4129b",
        "colab": {
          "base_uri": "https://localhost:8080/",
          "height": 34
        }
      },
      "source": [
        "print(score)"
      ],
      "execution_count": 16,
      "outputs": [
        {
          "output_type": "stream",
          "text": [
            "[0.05122227275215364, 0.9887]\n"
          ],
          "name": "stdout"
        }
      ]
    },
    {
      "cell_type": "code",
      "metadata": {
        "id": "OCWoJkwE9suh",
        "colab_type": "code",
        "colab": {}
      },
      "source": [
        "y_pred = model.predict(X_test)"
      ],
      "execution_count": 0,
      "outputs": []
    },
    {
      "cell_type": "code",
      "metadata": {
        "id": "Ym7iCFBm9uBs",
        "colab_type": "code",
        "outputId": "afd13910-ea8a-4f23-8458-59f772f0ee22",
        "colab": {
          "base_uri": "https://localhost:8080/",
          "height": 493
        }
      },
      "source": [
        "print(y_pred[:9])\n",
        "print(y_test[:9])"
      ],
      "execution_count": 18,
      "outputs": [
        {
          "output_type": "stream",
          "text": [
            "[[1.04825092e-15 5.55738927e-14 2.30096012e-11 9.37086408e-09\n",
            "  5.39117187e-19 1.24189409e-13 8.21759182e-23 1.00000000e+00\n",
            "  6.11408216e-11 3.04852837e-10]\n",
            " [3.84364762e-12 6.64126878e-11 1.00000000e+00 7.33202648e-12\n",
            "  2.74982520e-19 1.35214980e-17 2.63413054e-12 4.69102335e-22\n",
            "  3.76488554e-12 6.68198276e-21]\n",
            " [5.25504709e-11 9.99959588e-01 5.94306186e-07 2.65349742e-09\n",
            "  3.92082620e-05 2.79152950e-08 2.48462868e-08 7.06965650e-08\n",
            "  2.98290985e-07 2.28069425e-07]\n",
            " [9.99995589e-01 4.28172953e-14 1.22763391e-08 4.15697565e-17\n",
            "  2.39174918e-13 6.08123100e-12 4.41760085e-06 6.68555055e-13\n",
            "  1.08976946e-10 1.79386783e-09]\n",
            " [1.34102827e-17 9.83227280e-13 5.57018147e-12 1.01301635e-21\n",
            "  9.99999762e-01 9.74371561e-15 2.39088344e-13 2.82255823e-14\n",
            "  2.50123251e-12 2.80760162e-07]\n",
            " [2.78780221e-10 9.99997735e-01 5.01715434e-08 5.97653801e-11\n",
            "  2.29288639e-06 3.70141834e-10 3.17176896e-10 2.43425351e-08\n",
            "  3.88025541e-08 1.45396681e-08]\n",
            " [2.74385584e-24 1.20760450e-11 4.19836446e-17 4.57029903e-19\n",
            "  9.99999881e-01 2.05208406e-09 8.42692940e-13 5.30657549e-12\n",
            "  6.84937760e-08 2.47276724e-08]\n",
            " [1.37192975e-17 7.81899285e-13 2.21943939e-11 1.23986058e-10\n",
            "  5.26743482e-10 3.67543912e-10 3.25881761e-18 4.54216971e-15\n",
            "  8.07379552e-10 1.00000000e+00]\n",
            " [5.45829961e-12 2.29383098e-18 2.10484259e-13 1.71284176e-20\n",
            "  1.48341163e-18 9.99994159e-01 5.57825251e-06 4.90143424e-17\n",
            "  2.02830634e-07 1.74686567e-11]]\n",
            "[7 2 1 0 4 1 4 9 5]\n"
          ],
          "name": "stdout"
        }
      ]
    },
    {
      "cell_type": "code",
      "metadata": {
        "id": "CT--y98_dr2T",
        "colab_type": "code",
        "colab": {}
      },
      "source": [
        "layer_dict = dict([(layer.name, layer) for layer in model.layers])"
      ],
      "execution_count": 0,
      "outputs": []
    },
    {
      "cell_type": "code",
      "metadata": {
        "id": "2GY4Upv4dsUR",
        "colab_type": "code",
        "outputId": "28133316-79e5-49b7-e282-32156d4881ae",
        "colab": {
          "base_uri": "https://localhost:8080/",
          "height": 837
        }
      },
      "source": [
        "import numpy as np\n",
        "from matplotlib import pyplot as plt\n",
        "from keras import backend as K\n",
        "%matplotlib inline\n",
        "# util function to convert a tensor into a valid image\n",
        "def deprocess_image(x):\n",
        "    # normalize tensor: center on 0., ensure std is 0.1\n",
        "    x -= x.mean()\n",
        "    x /= (x.std() + 1e-5)\n",
        "    x *= 0.1\n",
        "\n",
        "    # clip to [0, 1]\n",
        "    x += 0.5\n",
        "    x = np.clip(x, 0, 1)\n",
        "\n",
        "    # convert to RGB array\n",
        "    x *= 255\n",
        "    #x = x.transpose((1, 2, 0))\n",
        "    x = np.clip(x, 0, 255).astype('uint8')\n",
        "    return x\n",
        "\n",
        "def vis_img_in_filter(img = np.array(X_train[2]).reshape((1, 28, 28, 1)).astype(np.float64), \n",
        "                      layer_name = 'conv2d_14'):\n",
        "    layer_output = layer_dict[layer_name].output\n",
        "    img_ascs = list()\n",
        "    for filter_index in range(layer_output.shape[3]):\n",
        "        # build a loss function that maximizes the activation\n",
        "        # of the nth filter of the layer considered\n",
        "        loss = K.mean(layer_output[:, :, :, filter_index])\n",
        "\n",
        "        # compute the gradient of the input picture wrt this loss\n",
        "        grads = K.gradients(loss, model.input)[0]\n",
        "\n",
        "        # normalization trick: we normalize the gradient\n",
        "        grads /= (K.sqrt(K.mean(K.square(grads))) + 1e-5)\n",
        "\n",
        "        # this function returns the loss and grads given the input picture\n",
        "        iterate = K.function([model.input], [loss, grads])\n",
        "\n",
        "        # step size for gradient ascent\n",
        "        step = 5.\n",
        "\n",
        "        img_asc = np.array(img)\n",
        "        # run gradient ascent for 20 steps\n",
        "        for i in range(20):\n",
        "            loss_value, grads_value = iterate([img_asc])\n",
        "            img_asc += grads_value * step\n",
        "\n",
        "        img_asc = img_asc[0]\n",
        "        img_ascs.append(deprocess_image(img_asc).reshape((28, 28)))\n",
        "        \n",
        "    if layer_output.shape[3] >= 35:\n",
        "        plot_x, plot_y = 6, 6\n",
        "    elif layer_output.shape[3] >= 23:\n",
        "        plot_x, plot_y = 4, 6\n",
        "    elif layer_output.shape[3] >= 11:\n",
        "        plot_x, plot_y = 2, 6\n",
        "    else:\n",
        "        plot_x, plot_y = 1, 2\n",
        "    fig, ax = plt.subplots(plot_x, plot_y, figsize = (12, 12))\n",
        "    ax[0, 0].imshow(img.reshape((28, 28)), cmap = 'gray')\n",
        "    ax[0, 0].set_title('Input image')\n",
        "    fig.suptitle('Input image and %s filters' % (layer_name,))\n",
        "    fig.tight_layout(pad = 0.3, rect = [0, 0, 0.9, 0.9])\n",
        "    for (x, y) in [(i, j) for i in range(plot_x) for j in range(plot_y)]:\n",
        "        if x == 0 and y == 0:\n",
        "            continue\n",
        "        ax[x, y].imshow(img_ascs[x * plot_y + y - 1], cmap = 'gray')\n",
        "        ax[x, y].set_title('filter %d' % (x * plot_y + y - 1))\n",
        "\n",
        "vis_img_in_filter()"
      ],
      "execution_count": 20,
      "outputs": [
        {
          "output_type": "display_data",
          "data": {
            "image/png": "[encoded data removed]",
            "text/plain": [
              "<Figure size 864x864 with 24 Axes>"
            ]
          },
          "metadata": {
            "tags": []
          }
        }
      ]
    },
    {
      "cell_type": "markdown",
      "metadata": {
        "id": "J5Ip5CKUS2Bz",
        "colab_type": "text"
      },
      "source": [
        "Objective :\n",
        "\n",
        "The aim over the four notebooks is to make sure that we reach an accuracy of at least 99.4% with lesss than 15k parameters. Each improvement of ours will move in that direction of either reduction in number of parameters or improvement in accuracy or both.\n",
        "\n",
        "Modifications:\n",
        "\n",
        "1.   Added transition block with 1x1 conv layers.\n",
        "2.   Reduced channels per layer, we dont need so many parameters to be learnt for mnist.\n",
        "3.   Increase the batch size to 128\n",
        "\n",
        "\n",
        "Conclusion :\n",
        "\n",
        "In the training we can see that training accuracy is very good but the validation accuracy is comparitively bad, leading to overfitting problem. Since we increased the batch size, same 40 epochs are not sufficient with lot of overfitting."
      ]
    }
  ]
}