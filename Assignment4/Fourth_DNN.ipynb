{
  "nbformat": 4,
  "nbformat_minor": 0,
  "metadata": {
    "colab": {
      "name": "Fourth DNN.ipynb",
      "version": "0.3.2",
      "provenance": [],
      "collapsed_sections": []
    },
    "kernelspec": {
      "name": "python3",
      "display_name": "Python 3"
    },
    "accelerator": "GPU"
  },
  "cells": [
    {
      "cell_type": "markdown",
      "metadata": {
        "id": "aNyZv-Ec52ot",
        "colab_type": "text"
      },
      "source": [
        "# **Import Libraries and modules**"
      ]
    },
    {
      "cell_type": "code",
      "metadata": {
        "id": "3m3w1Cw49Zkt",
        "colab_type": "code",
        "outputId": "4ec6a8ee-1175-4f1a-9541-fa62e8625490",
        "colab": {
          "base_uri": "https://localhost:8080/",
          "height": 34
        }
      },
      "source": [
        "# https://keras.io/\n",
        "!pip install -q keras\n",
        "import keras"
      ],
      "execution_count": 1,
      "outputs": [
        {
          "output_type": "stream",
          "text": [
            "Using TensorFlow backend.\n"
          ],
          "name": "stderr"
        }
      ]
    },
    {
      "cell_type": "code",
      "metadata": {
        "id": "Eso6UHE080D4",
        "colab_type": "code",
        "colab": {}
      },
      "source": [
        "import numpy as np\n",
        "\n",
        "from keras.models import Sequential\n",
        "from keras.layers import Dense, Dropout, Activation, Flatten, Add, BatchNormalization\n",
        "from keras.layers import Convolution2D, MaxPooling2D\n",
        "from keras.utils import np_utils\n",
        "\n",
        "from keras.datasets import mnist"
      ],
      "execution_count": 0,
      "outputs": []
    },
    {
      "cell_type": "markdown",
      "metadata": {
        "id": "zByEi95J86RD",
        "colab_type": "text"
      },
      "source": [
        "### Load pre-shuffled MNIST data into train and test sets"
      ]
    },
    {
      "cell_type": "code",
      "metadata": {
        "id": "7eRM0QWN83PV",
        "colab_type": "code",
        "colab": {}
      },
      "source": [
        "(X_train, y_train), (X_test, y_test) = mnist.load_data()"
      ],
      "execution_count": 0,
      "outputs": []
    },
    {
      "cell_type": "code",
      "metadata": {
        "id": "4a4Be72j8-ZC",
        "colab_type": "code",
        "outputId": "c22be332-4aa8-4b4a-c296-0f9474482897",
        "colab": {
          "base_uri": "https://localhost:8080/",
          "height": 303
        }
      },
      "source": [
        "print (X_train.shape)\n",
        "from matplotlib import pyplot as plt\n",
        "%matplotlib inline\n",
        "plt.imshow(X_train[0])"
      ],
      "execution_count": 4,
      "outputs": [
        {
          "output_type": "stream",
          "text": [
            "(60000, 28, 28)\n"
          ],
          "name": "stdout"
        },
        {
          "output_type": "execute_result",
          "data": {
            "text/plain": [
              "<matplotlib.image.AxesImage at 0x7fdeeb5e3f98>"
            ]
          },
          "metadata": {
            "tags": []
          },
          "execution_count": 4
        },
        {
          "output_type": "display_data",
          "data": {
            "image/png": "[encoded data removed]",
            "text/plain": [
              "<Figure size 432x288 with 1 Axes>"
            ]
          },
          "metadata": {
            "tags": []
          }
        }
      ]
    },
    {
      "cell_type": "code",
      "metadata": {
        "id": "dkmprriw9AnZ",
        "colab_type": "code",
        "colab": {}
      },
      "source": [
        "X_train = X_train.reshape(X_train.shape[0], 28, 28,1)\n",
        "X_test = X_test.reshape(X_test.shape[0], 28, 28,1)"
      ],
      "execution_count": 0,
      "outputs": []
    },
    {
      "cell_type": "code",
      "metadata": {
        "id": "X2m4YS4E9CRh",
        "colab_type": "code",
        "colab": {}
      },
      "source": [
        "X_train = X_train.astype('float32')\n",
        "X_test = X_test.astype('float32')\n",
        "X_train /= 255\n",
        "X_test /= 255"
      ],
      "execution_count": 0,
      "outputs": []
    },
    {
      "cell_type": "code",
      "metadata": {
        "id": "0Mn0vAYD9DvB",
        "colab_type": "code",
        "outputId": "7f1c6a91-4996-4de5-cdd1-b7787b758b99",
        "colab": {
          "base_uri": "https://localhost:8080/",
          "height": 34
        }
      },
      "source": [
        "y_train[:10]"
      ],
      "execution_count": 7,
      "outputs": [
        {
          "output_type": "execute_result",
          "data": {
            "text/plain": [
              "array([5, 0, 4, 1, 9, 2, 1, 3, 1, 4], dtype=uint8)"
            ]
          },
          "metadata": {
            "tags": []
          },
          "execution_count": 7
        }
      ]
    },
    {
      "cell_type": "code",
      "metadata": {
        "id": "ZG8JiXR39FHC",
        "colab_type": "code",
        "colab": {}
      },
      "source": [
        "# Convert 1-dimensional class arrays to 10-dimensional class matrices\n",
        "Y_train = np_utils.to_categorical(y_train, 10)\n",
        "Y_test = np_utils.to_categorical(y_test, 10)"
      ],
      "execution_count": 0,
      "outputs": []
    },
    {
      "cell_type": "code",
      "metadata": {
        "id": "fYlFRvKS9HMB",
        "colab_type": "code",
        "outputId": "721b1575-1efd-4d3b-992b-3bbd564040bc",
        "colab": {
          "base_uri": "https://localhost:8080/",
          "height": 187
        }
      },
      "source": [
        "Y_train[:10]\n"
      ],
      "execution_count": 9,
      "outputs": [
        {
          "output_type": "execute_result",
          "data": {
            "text/plain": [
              "array([[0., 0., 0., 0., 0., 1., 0., 0., 0., 0.],\n",
              "       [1., 0., 0., 0., 0., 0., 0., 0., 0., 0.],\n",
              "       [0., 0., 0., 0., 1., 0., 0., 0., 0., 0.],\n",
              "       [0., 1., 0., 0., 0., 0., 0., 0., 0., 0.],\n",
              "       [0., 0., 0., 0., 0., 0., 0., 0., 0., 1.],\n",
              "       [0., 0., 1., 0., 0., 0., 0., 0., 0., 0.],\n",
              "       [0., 1., 0., 0., 0., 0., 0., 0., 0., 0.],\n",
              "       [0., 0., 0., 1., 0., 0., 0., 0., 0., 0.],\n",
              "       [0., 1., 0., 0., 0., 0., 0., 0., 0., 0.],\n",
              "       [0., 0., 0., 0., 1., 0., 0., 0., 0., 0.]], dtype=float32)"
            ]
          },
          "metadata": {
            "tags": []
          },
          "execution_count": 9
        }
      ]
    },
    {
      "cell_type": "code",
      "metadata": {
        "id": "osKqT73Q9JJB",
        "colab_type": "code",
        "outputId": "8de4609d-d46d-48ed-dbfb-e2863332d857",
        "colab": {
          "base_uri": "https://localhost:8080/",
          "height": 1329
        }
      },
      "source": [
        "from keras.layers import Activation\n",
        "model = Sequential()\n",
        "\n",
        "# input layer and the first conv layer \n",
        "model.add(Convolution2D(10, 3, 3, activation='relu', input_shape=(28,28,1))) # 26\n",
        "model.add(BatchNormalization())\n",
        "model.add(Dropout(0.15))\n",
        "\n",
        "# first conv block\n",
        "model.add(Convolution2D(16, 3, 3, activation='relu')) # 24\n",
        "model.add(BatchNormalization())\n",
        "model.add(Dropout(0.15))\n",
        "\n",
        "model.add(Convolution2D(24, 3, 3, activation='relu')) # 22\n",
        "model.add(BatchNormalization())\n",
        "model.add(Dropout(0.15))\n",
        "\n",
        "# first transition block\n",
        "model.add(MaxPooling2D(pool_size=(2, 2))) # 11\n",
        "model.add(Convolution2D(10, 1, 1, activation='relu')) # 11\n",
        "# model.add(Dropout(0.1))\n",
        "\n",
        "# second conv block\n",
        "model.add(Convolution2D(16, 3, 3, activation='relu')) # 9\n",
        "model.add(BatchNormalization())\n",
        "model.add(Dropout(0.15))\n",
        "\n",
        "model.add(Convolution2D(24, 3, 3, activation='relu')) # 7\n",
        "model.add(BatchNormalization())\n",
        "model.add(Dropout(0.15))\n",
        "\n",
        "# second transition block\n",
        "model.add(MaxPooling2D(pool_size=(2, 2))) # 3\n",
        "\n",
        "# Last conv block flowed by softmax\n",
        "model.add(Convolution2D(10, 3)) # 1\n",
        "model.add(Flatten())\n",
        "model.add(Activation('softmax'))\n",
        "\n",
        "model.summary()"
      ],
      "execution_count": 10,
      "outputs": [
        {
          "output_type": "stream",
          "text": [
            "WARNING: Logging before flag parsing goes to stderr.\n",
            "W0617 10:10:14.344939 140596553627520 deprecation_wrapper.py:119] From /usr/local/lib/python3.6/dist-packages/keras/backend/tensorflow_backend.py:74: The name tf.get_default_graph is deprecated. Please use tf.compat.v1.get_default_graph instead.\n",
            "\n",
            "/usr/local/lib/python3.6/dist-packages/ipykernel_launcher.py:5: UserWarning: Update your `Conv2D` call to the Keras 2 API: `Conv2D(10, (3, 3), activation=\"relu\", input_shape=(28, 28, 1...)`\n",
            "  \"\"\"\n",
            "W0617 10:10:14.361008 140596553627520 deprecation_wrapper.py:119] From /usr/local/lib/python3.6/dist-packages/keras/backend/tensorflow_backend.py:517: The name tf.placeholder is deprecated. Please use tf.compat.v1.placeholder instead.\n",
            "\n",
            "W0617 10:10:14.363728 140596553627520 deprecation_wrapper.py:119] From /usr/local/lib/python3.6/dist-packages/keras/backend/tensorflow_backend.py:4138: The name tf.random_uniform is deprecated. Please use tf.random.uniform instead.\n",
            "\n",
            "W0617 10:10:14.393840 140596553627520 deprecation_wrapper.py:119] From /usr/local/lib/python3.6/dist-packages/keras/backend/tensorflow_backend.py:174: The name tf.get_default_session is deprecated. Please use tf.compat.v1.get_default_session instead.\n",
            "\n",
            "W0617 10:10:14.394961 140596553627520 deprecation_wrapper.py:119] From /usr/local/lib/python3.6/dist-packages/keras/backend/tensorflow_backend.py:181: The name tf.ConfigProto is deprecated. Please use tf.compat.v1.ConfigProto instead.\n",
            "\n",
            "W0617 10:10:14.946932 140596553627520 deprecation_wrapper.py:119] From /usr/local/lib/python3.6/dist-packages/keras/backend/tensorflow_backend.py:1834: The name tf.nn.fused_batch_norm is deprecated. Please use tf.compat.v1.nn.fused_batch_norm instead.\n",
            "\n",
            "W0617 10:10:15.034727 140596553627520 deprecation.py:506] From /usr/local/lib/python3.6/dist-packages/keras/backend/tensorflow_backend.py:3445: calling dropout (from tensorflow.python.ops.nn_ops) with keep_prob is deprecated and will be removed in a future version.\n",
            "Instructions for updating:\n",
            "Please use `rate` instead of `keep_prob`. Rate should be set to `rate = 1 - keep_prob`.\n",
            "/usr/local/lib/python3.6/dist-packages/ipykernel_launcher.py:10: UserWarning: Update your `Conv2D` call to the Keras 2 API: `Conv2D(16, (3, 3), activation=\"relu\")`\n",
            "  # Remove the CWD from sys.path while we load stuff.\n",
            "/usr/local/lib/python3.6/dist-packages/ipykernel_launcher.py:14: UserWarning: Update your `Conv2D` call to the Keras 2 API: `Conv2D(24, (3, 3), activation=\"relu\")`\n",
            "  \n",
            "W0617 10:10:15.312743 140596553627520 deprecation_wrapper.py:119] From /usr/local/lib/python3.6/dist-packages/keras/backend/tensorflow_backend.py:3976: The name tf.nn.max_pool is deprecated. Please use tf.nn.max_pool2d instead.\n",
            "\n",
            "/usr/local/lib/python3.6/dist-packages/ipykernel_launcher.py:20: UserWarning: Update your `Conv2D` call to the Keras 2 API: `Conv2D(10, (1, 1), activation=\"relu\")`\n",
            "/usr/local/lib/python3.6/dist-packages/ipykernel_launcher.py:24: UserWarning: Update your `Conv2D` call to the Keras 2 API: `Conv2D(16, (3, 3), activation=\"relu\")`\n"
          ],
          "name": "stderr"
        },
        {
          "output_type": "stream",
          "text": [
            "_________________________________________________________________\n",
            "Layer (type)                 Output Shape              Param #   \n",
            "=================================================================\n",
            "conv2d_1 (Conv2D)            (None, 26, 26, 10)        100       \n",
            "_________________________________________________________________\n",
            "batch_normalization_1 (Batch (None, 26, 26, 10)        40        \n",
            "_________________________________________________________________\n",
            "dropout_1 (Dropout)          (None, 26, 26, 10)        0         \n",
            "_________________________________________________________________\n",
            "conv2d_2 (Conv2D)            (None, 24, 24, 16)        1456      \n",
            "_________________________________________________________________\n",
            "batch_normalization_2 (Batch (None, 24, 24, 16)        64        \n",
            "_________________________________________________________________\n",
            "dropout_2 (Dropout)          (None, 24, 24, 16)        0         \n",
            "_________________________________________________________________\n",
            "conv2d_3 (Conv2D)            (None, 22, 22, 24)        3480      \n",
            "_________________________________________________________________\n",
            "batch_normalization_3 (Batch (None, 22, 22, 24)        96        \n",
            "_________________________________________________________________\n",
            "dropout_3 (Dropout)          (None, 22, 22, 24)        0         \n",
            "_________________________________________________________________\n",
            "max_pooling2d_1 (MaxPooling2 (None, 11, 11, 24)        0         \n",
            "_________________________________________________________________\n",
            "conv2d_4 (Conv2D)            (None, 11, 11, 10)        250       \n",
            "_________________________________________________________________\n",
            "conv2d_5 (Conv2D)            (None, 9, 9, 16)          1456      \n",
            "_________________________________________________________________\n",
            "batch_normalization_4 (Batch (None, 9, 9, 16)          64        \n",
            "_________________________________________________________________\n",
            "dropout_4 (Dropout)          (None, 9, 9, 16)          0         \n",
            "_________________________________________________________________\n",
            "conv2d_6 (Conv2D)            (None, 7, 7, 24)          3480      \n",
            "_________________________________________________________________\n",
            "batch_normalization_5 (Batch (None, 7, 7, 24)          96        \n",
            "_________________________________________________________________\n",
            "dropout_5 (Dropout)          (None, 7, 7, 24)          0         \n",
            "_________________________________________________________________\n",
            "max_pooling2d_2 (MaxPooling2 (None, 3, 3, 24)          0         \n",
            "_________________________________________________________________\n",
            "conv2d_7 (Conv2D)            (None, 1, 1, 10)          2170      \n",
            "_________________________________________________________________\n",
            "flatten_1 (Flatten)          (None, 10)                0         \n",
            "_________________________________________________________________\n",
            "activation_1 (Activation)    (None, 10)                0         \n",
            "=================================================================\n",
            "Total params: 12,752\n",
            "Trainable params: 12,572\n",
            "Non-trainable params: 180\n",
            "_________________________________________________________________\n"
          ],
          "name": "stdout"
        },
        {
          "output_type": "stream",
          "text": [
            "/usr/local/lib/python3.6/dist-packages/ipykernel_launcher.py:28: UserWarning: Update your `Conv2D` call to the Keras 2 API: `Conv2D(24, (3, 3), activation=\"relu\")`\n"
          ],
          "name": "stderr"
        }
      ]
    },
    {
      "cell_type": "code",
      "metadata": {
        "id": "Zp6SuGrL9M3h",
        "colab_type": "code",
        "colab": {
          "base_uri": "https://localhost:8080/",
          "height": 71
        },
        "outputId": "d8b2a841-9daa-464c-9809-33a8db609d8e"
      },
      "source": [
        "adam = keras.optimizers.Adam(lr=0.01, beta_1=0.9, beta_2=0.999, epsilon=1e-8,decay=0.0005)\n",
        "model.compile(loss='categorical_crossentropy',\n",
        "             optimizer=adam,\n",
        "             metrics=['accuracy'])"
      ],
      "execution_count": 11,
      "outputs": [
        {
          "output_type": "stream",
          "text": [
            "W0617 10:11:16.294653 140596553627520 deprecation_wrapper.py:119] From /usr/local/lib/python3.6/dist-packages/keras/optimizers.py:790: The name tf.train.Optimizer is deprecated. Please use tf.compat.v1.train.Optimizer instead.\n",
            "\n"
          ],
          "name": "stderr"
        }
      ]
    },
    {
      "cell_type": "code",
      "metadata": {
        "id": "4xWoKhPY9Of5",
        "colab_type": "code",
        "outputId": "2819f054-3aa2-4331-c4d9-47b4b337fc41",
        "colab": {
          "base_uri": "https://localhost:8080/",
          "height": 1516
        }
      },
      "source": [
        "model.fit(X_train, Y_train, batch_size=128, nb_epoch=40, verbose=1, validation_data=(X_test, Y_test))"
      ],
      "execution_count": 12,
      "outputs": [
        {
          "output_type": "stream",
          "text": [
            "/usr/local/lib/python3.6/dist-packages/ipykernel_launcher.py:1: UserWarning: The `nb_epoch` argument in `fit` has been renamed `epochs`.\n",
            "  \"\"\"Entry point for launching an IPython kernel.\n",
            "W0617 10:11:19.183071 140596553627520 deprecation.py:323] From /usr/local/lib/python3.6/dist-packages/tensorflow/python/ops/math_grad.py:1250: add_dispatch_support.<locals>.wrapper (from tensorflow.python.ops.array_ops) is deprecated and will be removed in a future version.\n",
            "Instructions for updating:\n",
            "Use tf.where in 2.0, which has the same broadcast rule as np.where\n"
          ],
          "name": "stderr"
        },
        {
          "output_type": "stream",
          "text": [
            "Train on 60000 samples, validate on 10000 samples\n",
            "Epoch 1/40\n",
            "60000/60000 [==============================] - 13s 222us/step - loss: 0.1844 - acc: 0.9425 - val_loss: 0.0446 - val_acc: 0.9856\n",
            "Epoch 2/40\n",
            "60000/60000 [==============================] - 11s 186us/step - loss: 0.0682 - acc: 0.9791 - val_loss: 0.0513 - val_acc: 0.9825\n",
            "Epoch 3/40\n",
            "60000/60000 [==============================] - 11s 186us/step - loss: 0.0532 - acc: 0.9827 - val_loss: 0.0421 - val_acc: 0.9867\n",
            "Epoch 4/40\n",
            "60000/60000 [==============================] - 11s 185us/step - loss: 0.0450 - acc: 0.9854 - val_loss: 0.0299 - val_acc: 0.9906\n",
            "Epoch 5/40\n",
            "60000/60000 [==============================] - 11s 185us/step - loss: 0.0401 - acc: 0.9871 - val_loss: 0.0468 - val_acc: 0.9842\n",
            "Epoch 6/40\n",
            "60000/60000 [==============================] - 11s 185us/step - loss: 0.0369 - acc: 0.9883 - val_loss: 0.0315 - val_acc: 0.9909\n",
            "Epoch 7/40\n",
            "60000/60000 [==============================] - 11s 186us/step - loss: 0.0347 - acc: 0.9888 - val_loss: 0.0283 - val_acc: 0.9911\n",
            "Epoch 8/40\n",
            "60000/60000 [==============================] - 11s 186us/step - loss: 0.0309 - acc: 0.9900 - val_loss: 0.0273 - val_acc: 0.9919\n",
            "Epoch 9/40\n",
            "60000/60000 [==============================] - 11s 187us/step - loss: 0.0310 - acc: 0.9904 - val_loss: 0.0249 - val_acc: 0.9927\n",
            "Epoch 10/40\n",
            "60000/60000 [==============================] - 11s 186us/step - loss: 0.0278 - acc: 0.9913 - val_loss: 0.0280 - val_acc: 0.9905\n",
            "Epoch 11/40\n",
            "60000/60000 [==============================] - 11s 186us/step - loss: 0.0282 - acc: 0.9911 - val_loss: 0.0315 - val_acc: 0.9905\n",
            "Epoch 12/40\n",
            "60000/60000 [==============================] - 11s 185us/step - loss: 0.0235 - acc: 0.9927 - val_loss: 0.0251 - val_acc: 0.9923\n",
            "Epoch 13/40\n",
            "60000/60000 [==============================] - 11s 186us/step - loss: 0.0252 - acc: 0.9919 - val_loss: 0.0251 - val_acc: 0.9913\n",
            "Epoch 14/40\n",
            "60000/60000 [==============================] - 11s 186us/step - loss: 0.0210 - acc: 0.9934 - val_loss: 0.0244 - val_acc: 0.9924\n",
            "Epoch 15/40\n",
            "60000/60000 [==============================] - 11s 187us/step - loss: 0.0216 - acc: 0.9931 - val_loss: 0.0229 - val_acc: 0.9927\n",
            "Epoch 16/40\n",
            "60000/60000 [==============================] - 11s 186us/step - loss: 0.0217 - acc: 0.9930 - val_loss: 0.0299 - val_acc: 0.9909\n",
            "Epoch 17/40\n",
            "60000/60000 [==============================] - 11s 186us/step - loss: 0.0205 - acc: 0.9934 - val_loss: 0.0230 - val_acc: 0.9926\n",
            "Epoch 18/40\n",
            "60000/60000 [==============================] - 11s 185us/step - loss: 0.0200 - acc: 0.9935 - val_loss: 0.0227 - val_acc: 0.9933\n",
            "Epoch 19/40\n",
            "60000/60000 [==============================] - 11s 186us/step - loss: 0.0194 - acc: 0.9937 - val_loss: 0.0215 - val_acc: 0.9938\n",
            "Epoch 20/40\n",
            "60000/60000 [==============================] - 11s 186us/step - loss: 0.0178 - acc: 0.9943 - val_loss: 0.0231 - val_acc: 0.9931\n",
            "Epoch 21/40\n",
            "60000/60000 [==============================] - 11s 185us/step - loss: 0.0178 - acc: 0.9939 - val_loss: 0.0270 - val_acc: 0.9923\n",
            "Epoch 22/40\n",
            "60000/60000 [==============================] - 11s 185us/step - loss: 0.0166 - acc: 0.9946 - val_loss: 0.0226 - val_acc: 0.9931\n",
            "Epoch 23/40\n",
            "60000/60000 [==============================] - 11s 185us/step - loss: 0.0157 - acc: 0.9948 - val_loss: 0.0226 - val_acc: 0.9924\n",
            "Epoch 24/40\n",
            "60000/60000 [==============================] - 11s 186us/step - loss: 0.0152 - acc: 0.9951 - val_loss: 0.0249 - val_acc: 0.9928\n",
            "Epoch 25/40\n",
            "60000/60000 [==============================] - 11s 186us/step - loss: 0.0159 - acc: 0.9946 - val_loss: 0.0212 - val_acc: 0.9933\n",
            "Epoch 26/40\n",
            "60000/60000 [==============================] - 11s 186us/step - loss: 0.0147 - acc: 0.9949 - val_loss: 0.0251 - val_acc: 0.9927\n",
            "Epoch 27/40\n",
            "60000/60000 [==============================] - 11s 186us/step - loss: 0.0143 - acc: 0.9955 - val_loss: 0.0207 - val_acc: 0.9932\n",
            "Epoch 28/40\n",
            "60000/60000 [==============================] - 11s 186us/step - loss: 0.0142 - acc: 0.9952 - val_loss: 0.0215 - val_acc: 0.9934\n",
            "Epoch 29/40\n",
            "60000/60000 [==============================] - 11s 186us/step - loss: 0.0134 - acc: 0.9958 - val_loss: 0.0200 - val_acc: 0.9936\n",
            "Epoch 30/40\n",
            "60000/60000 [==============================] - 11s 186us/step - loss: 0.0134 - acc: 0.9956 - val_loss: 0.0228 - val_acc: 0.9927\n",
            "Epoch 31/40\n",
            "60000/60000 [==============================] - 11s 186us/step - loss: 0.0133 - acc: 0.9957 - val_loss: 0.0222 - val_acc: 0.9935\n",
            "Epoch 32/40\n",
            "60000/60000 [==============================] - 11s 185us/step - loss: 0.0144 - acc: 0.9950 - val_loss: 0.0223 - val_acc: 0.9927\n",
            "Epoch 33/40\n",
            "60000/60000 [==============================] - 11s 186us/step - loss: 0.0127 - acc: 0.9960 - val_loss: 0.0236 - val_acc: 0.9926\n",
            "Epoch 34/40\n",
            "60000/60000 [==============================] - 11s 186us/step - loss: 0.0129 - acc: 0.9955 - val_loss: 0.0222 - val_acc: 0.9925\n",
            "Epoch 35/40\n",
            "60000/60000 [==============================] - 11s 186us/step - loss: 0.0133 - acc: 0.9955 - val_loss: 0.0218 - val_acc: 0.9931\n",
            "Epoch 36/40\n",
            "60000/60000 [==============================] - 11s 188us/step - loss: 0.0125 - acc: 0.9958 - val_loss: 0.0230 - val_acc: 0.9925\n",
            "Epoch 37/40\n",
            "60000/60000 [==============================] - 11s 186us/step - loss: 0.0123 - acc: 0.9959 - val_loss: 0.0215 - val_acc: 0.9926\n",
            "Epoch 38/40\n",
            "60000/60000 [==============================] - 11s 186us/step - loss: 0.0120 - acc: 0.9959 - val_loss: 0.0223 - val_acc: 0.9931\n",
            "Epoch 39/40\n",
            "60000/60000 [==============================] - 11s 186us/step - loss: 0.0113 - acc: 0.9961 - val_loss: 0.0215 - val_acc: 0.9932\n",
            "Epoch 40/40\n",
            "60000/60000 [==============================] - 11s 186us/step - loss: 0.0112 - acc: 0.9964 - val_loss: 0.0222 - val_acc: 0.9930\n"
          ],
          "name": "stdout"
        },
        {
          "output_type": "execute_result",
          "data": {
            "text/plain": [
              "<keras.callbacks.History at 0x7fdeeb59a550>"
            ]
          },
          "metadata": {
            "tags": []
          },
          "execution_count": 12
        }
      ]
    },
    {
      "cell_type": "code",
      "metadata": {
        "id": "AtsH-lLk-eLb",
        "colab_type": "code",
        "colab": {}
      },
      "source": [
        " score = model.evaluate(X_test, Y_test, verbose=0)"
      ],
      "execution_count": 0,
      "outputs": []
    },
    {
      "cell_type": "code",
      "metadata": {
        "id": "mkX8JMv79q9r",
        "colab_type": "code",
        "outputId": "fde097d0-3677-4932-ac8b-32f5e8ec250c",
        "colab": {
          "base_uri": "https://localhost:8080/",
          "height": 34
        }
      },
      "source": [
        "print(score)"
      ],
      "execution_count": 14,
      "outputs": [
        {
          "output_type": "stream",
          "text": [
            "[0.02217904356382642, 0.993]\n"
          ],
          "name": "stdout"
        }
      ]
    },
    {
      "cell_type": "code",
      "metadata": {
        "id": "OCWoJkwE9suh",
        "colab_type": "code",
        "colab": {}
      },
      "source": [
        "y_pred = model.predict(X_test)"
      ],
      "execution_count": 0,
      "outputs": []
    },
    {
      "cell_type": "code",
      "metadata": {
        "id": "Ym7iCFBm9uBs",
        "colab_type": "code",
        "outputId": "ceed08b1-9950-4182-cc4a-5f4571baf5dd",
        "colab": {
          "base_uri": "https://localhost:8080/",
          "height": 493
        }
      },
      "source": [
        "print(y_pred[:9])\n",
        "print(y_test[:9])"
      ],
      "execution_count": 16,
      "outputs": [
        {
          "output_type": "stream",
          "text": [
            "[[3.50867599e-12 1.03810081e-08 1.46141602e-07 2.43558787e-07\n",
            "  4.10444508e-12 7.36446657e-13 1.17980208e-17 9.99999642e-01\n",
            "  4.93512523e-11 2.56910866e-08]\n",
            " [3.22760097e-05 3.39745020e-06 9.99963880e-01 1.91226892e-08\n",
            "  1.53767343e-09 2.65760244e-12 4.47724375e-07 1.43935572e-10\n",
            "  3.17944213e-08 1.87852555e-12]\n",
            " [6.74671519e-09 9.99958873e-01 1.24097669e-05 7.78785321e-08\n",
            "  7.06019478e-07 7.91018067e-07 1.63459435e-06 2.22320177e-05\n",
            "  8.48445950e-07 2.37737504e-06]\n",
            " [9.99997735e-01 3.34226258e-14 5.56822088e-10 5.88803138e-12\n",
            "  1.22866206e-09 2.61372923e-09 1.65381152e-06 1.23140101e-11\n",
            "  1.69286078e-08 6.38230233e-07]\n",
            " [2.59565373e-11 9.11583420e-10 3.90304594e-11 6.21781272e-13\n",
            "  9.99976993e-01 5.88873256e-11 2.16458920e-10 1.20676705e-10\n",
            "  4.61232208e-09 2.30616661e-05]\n",
            " [5.47135137e-08 9.99933362e-01 1.83799712e-05 1.14271987e-08\n",
            "  1.24480368e-06 1.14825134e-07 1.91568438e-06 4.08500673e-05\n",
            "  2.06466183e-07 3.93332402e-06]\n",
            " [8.67263097e-19 1.89280369e-10 3.32984942e-12 6.14734246e-15\n",
            "  9.99998927e-01 1.61535932e-12 9.40677469e-17 1.00291544e-08\n",
            "  1.87105975e-09 1.12740383e-06]\n",
            " [4.76427708e-13 4.05538678e-08 4.47727883e-10 1.89541693e-09\n",
            "  2.19043031e-05 2.89575652e-08 6.61521239e-13 4.81807927e-11\n",
            "  4.97597874e-09 9.99978065e-01]\n",
            " [3.26290750e-09 4.75152495e-09 8.56666293e-09 5.70620564e-08\n",
            "  4.24038625e-12 9.97565746e-01 6.05109206e-04 3.61492216e-12\n",
            "  1.82908226e-03 1.77273112e-08]]\n",
            "[7 2 1 0 4 1 4 9 5]\n"
          ],
          "name": "stdout"
        }
      ]
    },
    {
      "cell_type": "code",
      "metadata": {
        "id": "CT--y98_dr2T",
        "colab_type": "code",
        "colab": {}
      },
      "source": [
        "layer_dict = dict([(layer.name, layer) for layer in model.layers])"
      ],
      "execution_count": 0,
      "outputs": []
    },
    {
      "cell_type": "code",
      "metadata": {
        "id": "2GY4Upv4dsUR",
        "colab_type": "code",
        "outputId": "f39e1df4-cc9b-4a84-9aa5-d93c45b0f04a",
        "colab": {
          "base_uri": "https://localhost:8080/",
          "height": 837
        }
      },
      "source": [
        "import numpy as np\n",
        "from matplotlib import pyplot as plt\n",
        "from keras import backend as K\n",
        "%matplotlib inline\n",
        "# util function to convert a tensor into a valid image\n",
        "def deprocess_image(x):\n",
        "    # normalize tensor: center on 0., ensure std is 0.1\n",
        "    x -= x.mean()\n",
        "    x /= (x.std() + 1e-5)\n",
        "    x *= 0.1\n",
        "\n",
        "    # clip to [0, 1]\n",
        "    x += 0.5\n",
        "    x = np.clip(x, 0, 1)\n",
        "\n",
        "    # convert to RGB array\n",
        "    x *= 255\n",
        "    #x = x.transpose((1, 2, 0))\n",
        "    x = np.clip(x, 0, 255).astype('uint8')\n",
        "    return x\n",
        "\n",
        "def vis_img_in_filter(img = np.array(X_train[2]).reshape((1, 28, 28, 1)).astype(np.float64), \n",
        "                      layer_name = 'conv2d_3'):\n",
        "    layer_output = layer_dict[layer_name].output\n",
        "    img_ascs = list()\n",
        "    for filter_index in range(layer_output.shape[3]):\n",
        "        # build a loss function that maximizes the activation\n",
        "        # of the nth filter of the layer considered\n",
        "        loss = K.mean(layer_output[:, :, :, filter_index])\n",
        "\n",
        "        # compute the gradient of the input picture wrt this loss\n",
        "        grads = K.gradients(loss, model.input)[0]\n",
        "\n",
        "        # normalization trick: we normalize the gradient\n",
        "        grads /= (K.sqrt(K.mean(K.square(grads))) + 1e-5)\n",
        "\n",
        "        # this function returns the loss and grads given the input picture\n",
        "        iterate = K.function([model.input], [loss, grads])\n",
        "\n",
        "        # step size for gradient ascent\n",
        "        step = 5.\n",
        "\n",
        "        img_asc = np.array(img)\n",
        "        # run gradient ascent for 20 steps\n",
        "        for i in range(20):\n",
        "            loss_value, grads_value = iterate([img_asc])\n",
        "            img_asc += grads_value * step\n",
        "\n",
        "        img_asc = img_asc[0]\n",
        "        img_ascs.append(deprocess_image(img_asc).reshape((28, 28)))\n",
        "        \n",
        "    if layer_output.shape[3] >= 35:\n",
        "        plot_x, plot_y = 6, 6\n",
        "    elif layer_output.shape[3] >= 23:\n",
        "        plot_x, plot_y = 4, 6\n",
        "    elif layer_output.shape[3] >= 11:\n",
        "        plot_x, plot_y = 2, 6\n",
        "    else:\n",
        "        plot_x, plot_y = 1, 2\n",
        "    fig, ax = plt.subplots(plot_x, plot_y, figsize = (12, 12))\n",
        "    ax[0, 0].imshow(img.reshape((28, 28)), cmap = 'gray')\n",
        "    ax[0, 0].set_title('Input image')\n",
        "    fig.suptitle('Input image and %s filters' % (layer_name,))\n",
        "    fig.tight_layout(pad = 0.3, rect = [0, 0, 0.9, 0.9])\n",
        "    for (x, y) in [(i, j) for i in range(plot_x) for j in range(plot_y)]:\n",
        "        if x == 0 and y == 0:\n",
        "            continue\n",
        "        ax[x, y].imshow(img_ascs[x * plot_y + y - 1], cmap = 'gray')\n",
        "        ax[x, y].set_title('filter %d' % (x * plot_y + y - 1))\n",
        "\n",
        "vis_img_in_filter()"
      ],
      "execution_count": 18,
      "outputs": [
        {
          "output_type": "display_data",
          "data": {
            "image/png": "[encoded data removed]",
            "text/plain": [
              "<Figure size 864x864 with 24 Axes>"
            ]
          },
          "metadata": {
            "tags": []
          }
        }
      ]
    },
    {
      "cell_type": "code",
      "metadata": {
        "id": "9tvptcn8dxvp",
        "colab_type": "code",
        "colab": {}
      },
      "source": [
        ""
      ],
      "execution_count": 0,
      "outputs": []
    },
    {
      "cell_type": "markdown",
      "metadata": {
        "id": "qMAu3izo6uTb",
        "colab_type": "text"
      },
      "source": [
        "**Changes made:**\n",
        ".\n",
        "\n",
        "1.   Introduced BatchNormarlization after every 3x3 conv layer.\n",
        "2.   Changed Learning rate to 0.01 with decay rate at 0.0005.\n",
        "3.  Introduced dropout of 0.15 after every 3x3 convolution layer, rather than having a concentrated large dropout at less number of places, we are using distributed dropout at every convolution layer.\n",
        "\n",
        "Results:\n",
        "\n",
        "After training the model for 40 epochs, I managed to get an accuracy of 99.44% accuracy with 12,750 paramerters. Which meets the requirement."
      ]
    }
  ]
}