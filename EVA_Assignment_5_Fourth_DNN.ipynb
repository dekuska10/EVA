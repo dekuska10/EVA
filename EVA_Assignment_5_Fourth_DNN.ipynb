{
  "nbformat": 4,
  "nbformat_minor": 0,
  "metadata": {
    "colab": {
      "name": "Assignment-5 Fourth DNN.ipynb",
      "version": "0.3.2",
      "provenance": [],
      "collapsed_sections": []
    },
    "kernelspec": {
      "name": "python3",
      "display_name": "Python 3"
    },
    "accelerator": "GPU"
  },
  "cells": [
    {
      "cell_type": "markdown",
      "metadata": {
        "id": "aNyZv-Ec52ot",
        "colab_type": "text"
      },
      "source": [
        "# **Import Libraries and modules**"
      ]
    },
    {
      "cell_type": "code",
      "metadata": {
        "id": "3m3w1Cw49Zkt",
        "colab_type": "code",
        "outputId": "4dbe67f9-2203-46f8-f4e3-05dd43d916a2",
        "colab": {
          "base_uri": "https://localhost:8080/",
          "height": 34
        }
      },
      "source": [
        "# https://keras.io/\n",
        "!pip install -q keras\n",
        "import keras"
      ],
      "execution_count": 1,
      "outputs": [
        {
          "output_type": "stream",
          "text": [
            "Using TensorFlow backend.\n"
          ],
          "name": "stderr"
        }
      ]
    },
    {
      "cell_type": "code",
      "metadata": {
        "id": "Eso6UHE080D4",
        "colab_type": "code",
        "colab": {}
      },
      "source": [
        "import numpy as np\n",
        "\n",
        "from keras.models import Sequential\n",
        "from keras.layers import Dense, Dropout, Activation, Flatten, Add, BatchNormalization\n",
        "from keras.layers import Convolution2D, MaxPooling2D\n",
        "from keras.utils import np_utils\n",
        "\n",
        "from keras.datasets import mnist"
      ],
      "execution_count": 0,
      "outputs": []
    },
    {
      "cell_type": "markdown",
      "metadata": {
        "id": "zByEi95J86RD",
        "colab_type": "text"
      },
      "source": [
        "### Load pre-shuffled MNIST data into train and test sets"
      ]
    },
    {
      "cell_type": "code",
      "metadata": {
        "id": "7eRM0QWN83PV",
        "colab_type": "code",
        "colab": {}
      },
      "source": [
        "(x_train, y_train), (x_test, y_test) = mnist.load_data()"
      ],
      "execution_count": 0,
      "outputs": []
    },
    {
      "cell_type": "code",
      "metadata": {
        "id": "4a4Be72j8-ZC",
        "colab_type": "code",
        "outputId": "782a70b9-bf68-4114-8667-821dc5cbd04e",
        "colab": {
          "base_uri": "https://localhost:8080/",
          "height": 303
        }
      },
      "source": [
        "print (x_train.shape)\n",
        "from matplotlib import pyplot as plt\n",
        "%matplotlib inline\n",
        "plt.imshow(x_train[0])"
      ],
      "execution_count": 4,
      "outputs": [
        {
          "output_type": "stream",
          "text": [
            "(60000, 28, 28)\n"
          ],
          "name": "stdout"
        },
        {
          "output_type": "execute_result",
          "data": {
            "text/plain": [
              "<matplotlib.image.AxesImage at 0x7f05abe92eb8>"
            ]
          },
          "metadata": {
            "tags": []
          },
          "execution_count": 4
        },
        {
          "output_type": "display_data",
          "data": {
            "image/png": "[encoded data removed]",
            "text/plain": [
              "<Figure size 432x288 with 1 Axes>"
            ]
          },
          "metadata": {
            "tags": []
          }
        }
      ]
    },
    {
      "cell_type": "code",
      "metadata": {
        "id": "dkmprriw9AnZ",
        "colab_type": "code",
        "colab": {}
      },
      "source": [
        "X_train = x_train.reshape(x_train.shape[0], 28, 28,1)\n",
        "X_test = x_test.reshape(x_test.shape[0], 28, 28,1)"
      ],
      "execution_count": 0,
      "outputs": []
    },
    {
      "cell_type": "code",
      "metadata": {
        "id": "X2m4YS4E9CRh",
        "colab_type": "code",
        "colab": {}
      },
      "source": [
        "X_train = X_train.astype('float32')\n",
        "X_test = X_test.astype('float32')\n",
        "# X_train /= 255\n",
        "# X_test /= 255"
      ],
      "execution_count": 0,
      "outputs": []
    },
    {
      "cell_type": "code",
      "metadata": {
        "id": "0Mn0vAYD9DvB",
        "colab_type": "code",
        "outputId": "f3099439-7938-4238-acd5-cf6e04aac43b",
        "colab": {
          "base_uri": "https://localhost:8080/",
          "height": 34
        }
      },
      "source": [
        "y_train[:10]"
      ],
      "execution_count": 7,
      "outputs": [
        {
          "output_type": "execute_result",
          "data": {
            "text/plain": [
              "array([5, 0, 4, 1, 9, 2, 1, 3, 1, 4], dtype=uint8)"
            ]
          },
          "metadata": {
            "tags": []
          },
          "execution_count": 7
        }
      ]
    },
    {
      "cell_type": "code",
      "metadata": {
        "id": "ZG8JiXR39FHC",
        "colab_type": "code",
        "colab": {}
      },
      "source": [
        "# Convert 1-dimensional class arrays to 10-dimensional class matrices\n",
        "Y_train = np_utils.to_categorical(y_train, 10)\n",
        "Y_test = np_utils.to_categorical(y_test, 10)"
      ],
      "execution_count": 0,
      "outputs": []
    },
    {
      "cell_type": "code",
      "metadata": {
        "id": "fYlFRvKS9HMB",
        "colab_type": "code",
        "outputId": "077b8cbf-a524-4dd9-86ce-9f50e9087b56",
        "colab": {
          "base_uri": "https://localhost:8080/",
          "height": 187
        }
      },
      "source": [
        "Y_train[:10]\n"
      ],
      "execution_count": 9,
      "outputs": [
        {
          "output_type": "execute_result",
          "data": {
            "text/plain": [
              "array([[0., 0., 0., 0., 0., 1., 0., 0., 0., 0.],\n",
              "       [1., 0., 0., 0., 0., 0., 0., 0., 0., 0.],\n",
              "       [0., 0., 0., 0., 1., 0., 0., 0., 0., 0.],\n",
              "       [0., 1., 0., 0., 0., 0., 0., 0., 0., 0.],\n",
              "       [0., 0., 0., 0., 0., 0., 0., 0., 0., 1.],\n",
              "       [0., 0., 1., 0., 0., 0., 0., 0., 0., 0.],\n",
              "       [0., 1., 0., 0., 0., 0., 0., 0., 0., 0.],\n",
              "       [0., 0., 0., 1., 0., 0., 0., 0., 0., 0.],\n",
              "       [0., 1., 0., 0., 0., 0., 0., 0., 0., 0.],\n",
              "       [0., 0., 0., 0., 1., 0., 0., 0., 0., 0.]], dtype=float32)"
            ]
          },
          "metadata": {
            "tags": []
          },
          "execution_count": 9
        }
      ]
    },
    {
      "cell_type": "markdown",
      "metadata": {
        "id": "HrXX5CAqJMtI",
        "colab_type": "text"
      },
      "source": [
        "**Current Changes made in the code : L2, Image norm**\n",
        ".\n",
        "\n",
        "1.   Added L2 regularization with a factor 0.0001. Adding only a small value has not diminished the performance of the model with no over fitting. In our base model, dropout was used to avoid overfitting. A high value of L2 regularization is determined to the model performance, which leads to reduced accuracy due to weight decay.\n",
        "\n",
        "2.   Moved 'relu' activation from before BatchNormalization(BN) to after BN. There is no perticular reason why it should be placed before or after BN. And there is no performance difference either ways.Though the research community is debating over this .\n",
        "\n",
        "3.  Performed Image normalization using pixel feature based standart normalization. Here each pixel is considered a feature, this is equalient  to doing BN on the input image.  So BN is just an extension of Image normalization onto all the layers of CNN, batch wise. \n",
        "\n",
        "Conclusion : After training the model for 40 epochs, I managed to get an accuracy of 99.44% accuracy on train data and 99.5% accuracy on validation data with 12,750 paramerters. Which meets the requirement.\n",
        "\n",
        "\n"
      ]
    },
    {
      "cell_type": "code",
      "metadata": {
        "id": "osKqT73Q9JJB",
        "colab_type": "code",
        "outputId": "0a8f4690-348e-4043-d9f0-f49ed2629ea3",
        "colab": {
          "base_uri": "https://localhost:8080/",
          "height": 1499
        }
      },
      "source": [
        "from keras.layers import Activation\n",
        "from keras import regularizers\n",
        "model = Sequential()\n",
        "\n",
        "# input layer and the first conv layer \n",
        "model.add(Convolution2D(10, 3, 3,W_regularizer=regularizers.l2(0.0001), input_shape=(28,28,1))) # 26\n",
        "model.add(BatchNormalization())\n",
        "model.add(Activation('relu'))\n",
        "model.add(Dropout(0.15))\n",
        "\n",
        "# first conv block\n",
        "model.add(Convolution2D(16, 3, 3, W_regularizer=regularizers.l2(0.0001))) # 24\n",
        "model.add(BatchNormalization())\n",
        "model.add(Activation('relu'))\n",
        "model.add(Dropout(0.15))\n",
        "\n",
        "model.add(Convolution2D(24, 3, 3, W_regularizer=regularizers.l2(0.0001))) # 22\n",
        "model.add(BatchNormalization())\n",
        "model.add(Activation('relu'))\n",
        "model.add(Dropout(0.15))\n",
        "\n",
        "# first transition block\n",
        "model.add(MaxPooling2D(pool_size=(2, 2))) # 11\n",
        "model.add(Convolution2D(10, 1, 1, activation='relu')) # 11\n",
        "# model.add(Dropout(0.1))\n",
        "\n",
        "# second conv block\n",
        "model.add(Convolution2D(16, 3, 3, W_regularizer=regularizers.l2(0.0001))) # 9\n",
        "model.add(BatchNormalization())\n",
        "model.add(Activation('relu'))\n",
        "model.add(Dropout(0.15))\n",
        "\n",
        "model.add(Convolution2D(24, 3, 3, W_regularizer=regularizers.l2(0.0001))) # 7\n",
        "model.add(BatchNormalization())\n",
        "model.add(Activation('relu'))\n",
        "model.add(Dropout(0.15))\n",
        "\n",
        "# second transition block\n",
        "model.add(MaxPooling2D(pool_size=(2, 2))) # 3\n",
        "\n",
        "# Last conv block flowed by softmax\n",
        "model.add(Convolution2D(10, 3, W_regularizer=regularizers.l2(0.0001))) # 1\n",
        "model.add(Flatten())\n",
        "model.add(Activation('softmax'))\n",
        "\n",
        "model.summary()"
      ],
      "execution_count": 10,
      "outputs": [
        {
          "output_type": "stream",
          "text": [
            "WARNING: Logging before flag parsing goes to stderr.\n",
            "W0617 12:11:24.088240 139663481087872 deprecation_wrapper.py:119] From /usr/local/lib/python3.6/dist-packages/keras/backend/tensorflow_backend.py:74: The name tf.get_default_graph is deprecated. Please use tf.compat.v1.get_default_graph instead.\n",
            "\n",
            "/usr/local/lib/python3.6/dist-packages/ipykernel_launcher.py:6: UserWarning: Update your `Conv2D` call to the Keras 2 API: `Conv2D(10, (3, 3), input_shape=(28, 28, 1..., kernel_regularizer=<keras.reg...)`\n",
            "  \n",
            "W0617 12:11:24.104297 139663481087872 deprecation_wrapper.py:119] From /usr/local/lib/python3.6/dist-packages/keras/backend/tensorflow_backend.py:517: The name tf.placeholder is deprecated. Please use tf.compat.v1.placeholder instead.\n",
            "\n",
            "W0617 12:11:24.108441 139663481087872 deprecation_wrapper.py:119] From /usr/local/lib/python3.6/dist-packages/keras/backend/tensorflow_backend.py:4138: The name tf.random_uniform is deprecated. Please use tf.random.uniform instead.\n",
            "\n",
            "W0617 12:11:24.143920 139663481087872 deprecation_wrapper.py:119] From /usr/local/lib/python3.6/dist-packages/keras/backend/tensorflow_backend.py:174: The name tf.get_default_session is deprecated. Please use tf.compat.v1.get_default_session instead.\n",
            "\n",
            "W0617 12:11:24.145456 139663481087872 deprecation_wrapper.py:119] From /usr/local/lib/python3.6/dist-packages/keras/backend/tensorflow_backend.py:181: The name tf.ConfigProto is deprecated. Please use tf.compat.v1.ConfigProto instead.\n",
            "\n",
            "W0617 12:11:24.748293 139663481087872 deprecation_wrapper.py:119] From /usr/local/lib/python3.6/dist-packages/keras/backend/tensorflow_backend.py:1834: The name tf.nn.fused_batch_norm is deprecated. Please use tf.compat.v1.nn.fused_batch_norm instead.\n",
            "\n",
            "W0617 12:11:24.829945 139663481087872 deprecation.py:506] From /usr/local/lib/python3.6/dist-packages/keras/backend/tensorflow_backend.py:3445: calling dropout (from tensorflow.python.ops.nn_ops) with keep_prob is deprecated and will be removed in a future version.\n",
            "Instructions for updating:\n",
            "Please use `rate` instead of `keep_prob`. Rate should be set to `rate = 1 - keep_prob`.\n",
            "/usr/local/lib/python3.6/dist-packages/ipykernel_launcher.py:12: UserWarning: Update your `Conv2D` call to the Keras 2 API: `Conv2D(16, (3, 3), kernel_regularizer=<keras.reg...)`\n",
            "  if sys.path[0] == '':\n",
            "/usr/local/lib/python3.6/dist-packages/ipykernel_launcher.py:17: UserWarning: Update your `Conv2D` call to the Keras 2 API: `Conv2D(24, (3, 3), kernel_regularizer=<keras.reg...)`\n",
            "W0617 12:11:25.100475 139663481087872 deprecation_wrapper.py:119] From /usr/local/lib/python3.6/dist-packages/keras/backend/tensorflow_backend.py:3976: The name tf.nn.max_pool is deprecated. Please use tf.nn.max_pool2d instead.\n",
            "\n",
            "/usr/local/lib/python3.6/dist-packages/ipykernel_launcher.py:24: UserWarning: Update your `Conv2D` call to the Keras 2 API: `Conv2D(10, (1, 1), activation=\"relu\")`\n",
            "/usr/local/lib/python3.6/dist-packages/ipykernel_launcher.py:28: UserWarning: Update your `Conv2D` call to the Keras 2 API: `Conv2D(16, (3, 3), kernel_regularizer=<keras.reg...)`\n"
          ],
          "name": "stderr"
        },
        {
          "output_type": "stream",
          "text": [
            "_________________________________________________________________\n",
            "Layer (type)                 Output Shape              Param #   \n",
            "=================================================================\n",
            "conv2d_1 (Conv2D)            (None, 26, 26, 10)        100       \n",
            "_________________________________________________________________\n",
            "batch_normalization_1 (Batch (None, 26, 26, 10)        40        \n",
            "_________________________________________________________________\n",
            "activation_1 (Activation)    (None, 26, 26, 10)        0         \n",
            "_________________________________________________________________\n",
            "dropout_1 (Dropout)          (None, 26, 26, 10)        0         \n",
            "_________________________________________________________________\n",
            "conv2d_2 (Conv2D)            (None, 24, 24, 16)        1456      \n",
            "_________________________________________________________________\n",
            "batch_normalization_2 (Batch (None, 24, 24, 16)        64        \n",
            "_________________________________________________________________\n",
            "activation_2 (Activation)    (None, 24, 24, 16)        0         \n",
            "_________________________________________________________________\n",
            "dropout_2 (Dropout)          (None, 24, 24, 16)        0         \n",
            "_________________________________________________________________\n",
            "conv2d_3 (Conv2D)            (None, 22, 22, 24)        3480      \n",
            "_________________________________________________________________\n",
            "batch_normalization_3 (Batch (None, 22, 22, 24)        96        \n",
            "_________________________________________________________________\n",
            "activation_3 (Activation)    (None, 22, 22, 24)        0         \n",
            "_________________________________________________________________\n",
            "dropout_3 (Dropout)          (None, 22, 22, 24)        0         \n",
            "_________________________________________________________________\n",
            "max_pooling2d_1 (MaxPooling2 (None, 11, 11, 24)        0         \n",
            "_________________________________________________________________\n",
            "conv2d_4 (Conv2D)            (None, 11, 11, 10)        250       \n",
            "_________________________________________________________________\n",
            "conv2d_5 (Conv2D)            (None, 9, 9, 16)          1456      \n",
            "_________________________________________________________________\n",
            "batch_normalization_4 (Batch (None, 9, 9, 16)          64        \n",
            "_________________________________________________________________\n",
            "activation_4 (Activation)    (None, 9, 9, 16)          0         \n",
            "_________________________________________________________________\n",
            "dropout_4 (Dropout)          (None, 9, 9, 16)          0         \n",
            "_________________________________________________________________\n",
            "conv2d_6 (Conv2D)            (None, 7, 7, 24)          3480      \n",
            "_________________________________________________________________\n",
            "batch_normalization_5 (Batch (None, 7, 7, 24)          96        \n",
            "_________________________________________________________________\n",
            "activation_5 (Activation)    (None, 7, 7, 24)          0         \n",
            "_________________________________________________________________\n",
            "dropout_5 (Dropout)          (None, 7, 7, 24)          0         \n",
            "_________________________________________________________________\n",
            "max_pooling2d_2 (MaxPooling2 (None, 3, 3, 24)          0         \n",
            "_________________________________________________________________\n",
            "conv2d_7 (Conv2D)            (None, 1, 1, 10)          2170      \n",
            "_________________________________________________________________\n",
            "flatten_1 (Flatten)          (None, 10)                0         \n",
            "_________________________________________________________________\n",
            "activation_6 (Activation)    (None, 10)                0         \n",
            "=================================================================\n",
            "Total params: 12,752\n",
            "Trainable params: 12,572\n",
            "Non-trainable params: 180\n",
            "_________________________________________________________________\n"
          ],
          "name": "stdout"
        },
        {
          "output_type": "stream",
          "text": [
            "/usr/local/lib/python3.6/dist-packages/ipykernel_launcher.py:33: UserWarning: Update your `Conv2D` call to the Keras 2 API: `Conv2D(24, (3, 3), kernel_regularizer=<keras.reg...)`\n",
            "/usr/local/lib/python3.6/dist-packages/ipykernel_launcher.py:42: UserWarning: Update your `Conv2D` call to the Keras 2 API: `Conv2D(10, 3, kernel_regularizer=<keras.reg...)`\n"
          ],
          "name": "stderr"
        }
      ]
    },
    {
      "cell_type": "code",
      "metadata": {
        "id": "Zp6SuGrL9M3h",
        "colab_type": "code",
        "colab": {
          "base_uri": "https://localhost:8080/",
          "height": 71
        },
        "outputId": "8f1599df-aa47-4e89-e073-0b0eca03dd61"
      },
      "source": [
        "adam = keras.optimizers.Adam(lr=0.01, beta_1=0.9, beta_2=0.999, epsilon=1e-8,decay=0.0005)\n",
        "model.compile(loss='categorical_crossentropy',\n",
        "             optimizer=adam,\n",
        "             metrics=['accuracy'])"
      ],
      "execution_count": 11,
      "outputs": [
        {
          "output_type": "stream",
          "text": [
            "W0617 12:11:29.669858 139663481087872 deprecation_wrapper.py:119] From /usr/local/lib/python3.6/dist-packages/keras/optimizers.py:790: The name tf.train.Optimizer is deprecated. Please use tf.compat.v1.train.Optimizer instead.\n",
            "\n"
          ],
          "name": "stderr"
        }
      ]
    },
    {
      "cell_type": "code",
      "metadata": {
        "id": "rPx79CLCfLQQ",
        "colab_type": "code",
        "colab": {}
      },
      "source": [
        "datagen = keras.preprocessing.image.ImageDataGenerator(featurewise_center=True,featurewise_std_normalization=True)\n",
        "\n",
        "train_iterator = datagen.flow(X_train, Y_train, batch_size=128)\n",
        "test_iterator = datagen.flow(X_test, Y_test, batch_size=128)"
      ],
      "execution_count": 0,
      "outputs": []
    },
    {
      "cell_type": "code",
      "metadata": {
        "id": "zTM8FPtsb1Ty",
        "colab_type": "code",
        "colab": {}
      },
      "source": [
        "from keras.callbacks import ModelCheckpoint\n",
        "mcp_save = ModelCheckpoint('.mdl_wts.hdf5', save_best_only=True, monitor='val_loss', mode='min')"
      ],
      "execution_count": 0,
      "outputs": []
    },
    {
      "cell_type": "code",
      "metadata": {
        "id": "4xWoKhPY9Of5",
        "colab_type": "code",
        "outputId": "d54b5ef2-ebaa-4744-a21b-2e0ea9a2b4df",
        "colab": {
          "base_uri": "https://localhost:8080/",
          "height": 1533
        }
      },
      "source": [
        "# model.fit(X_train, Y_train, batch_size=128, nb_epoch=40, verbose=1, validation_data=(X_test, Y_test))\n",
        "\n",
        "model.fit_generator(train_iterator, steps_per_epoch=len(train_iterator), epochs=40, verbose=1, callbacks=[mcp_save], validation_data=test_iterator,\n",
        "                    validation_steps=len(test_iterator))"
      ],
      "execution_count": 14,
      "outputs": [
        {
          "output_type": "stream",
          "text": [
            "W0617 12:11:36.280528 139663481087872 deprecation.py:323] From /usr/local/lib/python3.6/dist-packages/tensorflow/python/ops/math_grad.py:1250: add_dispatch_support.<locals>.wrapper (from tensorflow.python.ops.array_ops) is deprecated and will be removed in a future version.\n",
            "Instructions for updating:\n",
            "Use tf.where in 2.0, which has the same broadcast rule as np.where\n"
          ],
          "name": "stderr"
        },
        {
          "output_type": "stream",
          "text": [
            "Epoch 1/40\n"
          ],
          "name": "stdout"
        },
        {
          "output_type": "stream",
          "text": [
            "/usr/local/lib/python3.6/dist-packages/keras_preprocessing/image/image_data_generator.py:716: UserWarning: This ImageDataGenerator specifies `featurewise_center`, but it hasn't been fit on any training data. Fit it first by calling `.fit(numpy_data)`.\n",
            "  warnings.warn('This ImageDataGenerator specifies '\n",
            "/usr/local/lib/python3.6/dist-packages/keras_preprocessing/image/image_data_generator.py:724: UserWarning: This ImageDataGenerator specifies `featurewise_std_normalization`, but it hasn't been fit on any training data. Fit it first by calling `.fit(numpy_data)`.\n",
            "  warnings.warn('This ImageDataGenerator specifies '\n"
          ],
          "name": "stderr"
        },
        {
          "output_type": "stream",
          "text": [
            "469/469 [==============================] - 15s 31ms/step - loss: 0.1943 - acc: 0.9462 - val_loss: 0.0697 - val_acc: 0.9854\n",
            "Epoch 2/40\n",
            "469/469 [==============================] - 12s 26ms/step - loss: 0.0818 - acc: 0.9811 - val_loss: 0.0654 - val_acc: 0.9870\n",
            "Epoch 3/40\n",
            "469/469 [==============================] - 12s 26ms/step - loss: 0.0739 - acc: 0.9844 - val_loss: 0.0775 - val_acc: 0.9844\n",
            "Epoch 4/40\n",
            "469/469 [==============================] - 12s 26ms/step - loss: 0.0672 - acc: 0.9859 - val_loss: 0.0648 - val_acc: 0.9857\n",
            "Epoch 5/40\n",
            "469/469 [==============================] - 12s 26ms/step - loss: 0.0653 - acc: 0.9867 - val_loss: 0.0695 - val_acc: 0.9862\n",
            "Epoch 6/40\n",
            "469/469 [==============================] - 12s 26ms/step - loss: 0.0620 - acc: 0.9880 - val_loss: 0.0541 - val_acc: 0.9914\n",
            "Epoch 7/40\n",
            "469/469 [==============================] - 12s 26ms/step - loss: 0.0605 - acc: 0.9879 - val_loss: 0.0623 - val_acc: 0.9865\n",
            "Epoch 8/40\n",
            "469/469 [==============================] - 12s 26ms/step - loss: 0.0574 - acc: 0.9890 - val_loss: 0.0649 - val_acc: 0.9869\n",
            "Epoch 9/40\n",
            "469/469 [==============================] - 12s 26ms/step - loss: 0.0558 - acc: 0.9893 - val_loss: 0.0732 - val_acc: 0.9838\n",
            "Epoch 10/40\n",
            "469/469 [==============================] - 12s 26ms/step - loss: 0.0551 - acc: 0.9892 - val_loss: 0.0577 - val_acc: 0.9883\n",
            "Epoch 11/40\n",
            "469/469 [==============================] - 12s 26ms/step - loss: 0.0518 - acc: 0.9904 - val_loss: 0.0525 - val_acc: 0.9902\n",
            "Epoch 12/40\n",
            "469/469 [==============================] - 12s 26ms/step - loss: 0.0496 - acc: 0.9906 - val_loss: 0.0566 - val_acc: 0.9895\n",
            "Epoch 13/40\n",
            "469/469 [==============================] - 12s 26ms/step - loss: 0.0481 - acc: 0.9913 - val_loss: 0.0578 - val_acc: 0.9887\n",
            "Epoch 14/40\n",
            "469/469 [==============================] - 12s 26ms/step - loss: 0.0479 - acc: 0.9912 - val_loss: 0.0451 - val_acc: 0.9929\n",
            "Epoch 15/40\n",
            "469/469 [==============================] - 12s 26ms/step - loss: 0.0449 - acc: 0.9919 - val_loss: 0.0475 - val_acc: 0.9917\n",
            "Epoch 16/40\n",
            "469/469 [==============================] - 12s 26ms/step - loss: 0.0441 - acc: 0.9914 - val_loss: 0.0427 - val_acc: 0.9930\n",
            "Epoch 17/40\n",
            "469/469 [==============================] - 12s 26ms/step - loss: 0.0444 - acc: 0.9918 - val_loss: 0.0440 - val_acc: 0.9918\n",
            "Epoch 18/40\n",
            "469/469 [==============================] - 12s 26ms/step - loss: 0.0420 - acc: 0.9923 - val_loss: 0.0467 - val_acc: 0.9915\n",
            "Epoch 19/40\n",
            "469/469 [==============================] - 12s 26ms/step - loss: 0.0410 - acc: 0.9925 - val_loss: 0.0426 - val_acc: 0.9920\n",
            "Epoch 20/40\n",
            "469/469 [==============================] - 12s 26ms/step - loss: 0.0399 - acc: 0.9926 - val_loss: 0.0410 - val_acc: 0.9926\n",
            "Epoch 21/40\n",
            "469/469 [==============================] - 12s 26ms/step - loss: 0.0387 - acc: 0.9931 - val_loss: 0.0407 - val_acc: 0.9932\n",
            "Epoch 22/40\n",
            "469/469 [==============================] - 12s 26ms/step - loss: 0.0395 - acc: 0.9924 - val_loss: 0.0370 - val_acc: 0.9934\n",
            "Epoch 23/40\n",
            "469/469 [==============================] - 12s 26ms/step - loss: 0.0374 - acc: 0.9932 - val_loss: 0.0435 - val_acc: 0.9929\n",
            "Epoch 24/40\n",
            "469/469 [==============================] - 12s 26ms/step - loss: 0.0367 - acc: 0.9933 - val_loss: 0.0370 - val_acc: 0.9936\n",
            "Epoch 25/40\n",
            "469/469 [==============================] - 12s 26ms/step - loss: 0.0356 - acc: 0.9933 - val_loss: 0.0439 - val_acc: 0.9911\n",
            "Epoch 26/40\n",
            "469/469 [==============================] - 12s 26ms/step - loss: 0.0355 - acc: 0.9939 - val_loss: 0.0421 - val_acc: 0.9921\n",
            "Epoch 27/40\n",
            "469/469 [==============================] - 12s 26ms/step - loss: 0.0354 - acc: 0.9934 - val_loss: 0.0418 - val_acc: 0.9923\n",
            "Epoch 28/40\n",
            "469/469 [==============================] - 12s 26ms/step - loss: 0.0336 - acc: 0.9940 - val_loss: 0.0427 - val_acc: 0.9915\n",
            "Epoch 29/40\n",
            "469/469 [==============================] - 12s 26ms/step - loss: 0.0337 - acc: 0.9940 - val_loss: 0.0363 - val_acc: 0.9932\n",
            "Epoch 30/40\n",
            "469/469 [==============================] - 12s 26ms/step - loss: 0.0329 - acc: 0.9942 - val_loss: 0.0349 - val_acc: 0.9935\n",
            "Epoch 31/40\n",
            "469/469 [==============================] - 12s 26ms/step - loss: 0.0331 - acc: 0.9940 - val_loss: 0.0380 - val_acc: 0.9932\n",
            "Epoch 32/40\n",
            "469/469 [==============================] - 12s 26ms/step - loss: 0.0316 - acc: 0.9944 - val_loss: 0.0401 - val_acc: 0.9921\n",
            "Epoch 33/40\n",
            "469/469 [==============================] - 12s 26ms/step - loss: 0.0318 - acc: 0.9938 - val_loss: 0.0328 - val_acc: 0.9946\n",
            "Epoch 34/40\n",
            "469/469 [==============================] - 12s 26ms/step - loss: 0.0299 - acc: 0.9949 - val_loss: 0.0351 - val_acc: 0.9934\n",
            "Epoch 35/40\n",
            "469/469 [==============================] - 12s 26ms/step - loss: 0.0307 - acc: 0.9942 - val_loss: 0.0449 - val_acc: 0.9904\n",
            "Epoch 36/40\n",
            "469/469 [==============================] - 12s 25ms/step - loss: 0.0309 - acc: 0.9942 - val_loss: 0.0352 - val_acc: 0.9935\n",
            "Epoch 37/40\n",
            "469/469 [==============================] - 12s 26ms/step - loss: 0.0295 - acc: 0.9948 - val_loss: 0.0381 - val_acc: 0.9927\n",
            "Epoch 38/40\n",
            "469/469 [==============================] - 12s 26ms/step - loss: 0.0301 - acc: 0.9942 - val_loss: 0.0319 - val_acc: 0.9940\n",
            "Epoch 39/40\n",
            "469/469 [==============================] - 12s 26ms/step - loss: 0.0289 - acc: 0.9945 - val_loss: 0.0332 - val_acc: 0.9939\n",
            "Epoch 40/40\n",
            "469/469 [==============================] - 12s 26ms/step - loss: 0.0289 - acc: 0.9946 - val_loss: 0.0336 - val_acc: 0.9945\n"
          ],
          "name": "stdout"
        },
        {
          "output_type": "execute_result",
          "data": {
            "text/plain": [
              "<keras.callbacks.History at 0x7f05a95fccc0>"
            ]
          },
          "metadata": {
            "tags": []
          },
          "execution_count": 14
        }
      ]
    },
    {
      "cell_type": "code",
      "metadata": {
        "id": "iixoZaJNH4gw",
        "colab_type": "code",
        "outputId": "86baafce-0b63-4890-cf36-408095cb0bc1",
        "colab": {
          "base_uri": "https://localhost:8080/",
          "height": 34
        }
      },
      "source": [
        "score = model.evaluate(X_test, Y_test, verbose=0)\n",
        "print(score)"
      ],
      "execution_count": 15,
      "outputs": [
        {
          "output_type": "stream",
          "text": [
            "[0.03359505634903908, 0.9945]\n"
          ],
          "name": "stdout"
        }
      ]
    },
    {
      "cell_type": "code",
      "metadata": {
        "id": "AtsH-lLk-eLb",
        "colab_type": "code",
        "outputId": "bc48ae57-4bc5-4bf6-e641-dca4ea7f8cf5",
        "colab": {
          "base_uri": "https://localhost:8080/",
          "height": 156
        }
      },
      "source": [
        "# score = model.evaluate(X_test, Y_test, verbose=0)\n",
        "_, acc = model.evaluate_generator(test_iterator, steps=len(test_iterator),verbose=1)\n",
        "print(acc)\n",
        "print(len(test_iterator))"
      ],
      "execution_count": 16,
      "outputs": [
        {
          "output_type": "stream",
          "text": [
            "22/79 [=======>......................] - ETA: 0s"
          ],
          "name": "stdout"
        },
        {
          "output_type": "stream",
          "text": [
            "/usr/local/lib/python3.6/dist-packages/keras_preprocessing/image/image_data_generator.py:716: UserWarning: This ImageDataGenerator specifies `featurewise_center`, but it hasn't been fit on any training data. Fit it first by calling `.fit(numpy_data)`.\n",
            "  warnings.warn('This ImageDataGenerator specifies '\n",
            "/usr/local/lib/python3.6/dist-packages/keras_preprocessing/image/image_data_generator.py:724: UserWarning: This ImageDataGenerator specifies `featurewise_std_normalization`, but it hasn't been fit on any training data. Fit it first by calling `.fit(numpy_data)`.\n",
            "  warnings.warn('This ImageDataGenerator specifies '\n"
          ],
          "name": "stderr"
        },
        {
          "output_type": "stream",
          "text": [
            "79/79 [==============================] - 1s 8ms/step\n",
            "0.9946\n",
            "79\n"
          ],
          "name": "stdout"
        }
      ]
    },
    {
      "cell_type": "markdown",
      "metadata": {
        "id": "ikrJRKFQIOwA",
        "colab_type": "text"
      },
      "source": [
        "### To find out 25 misclassified images from the validation dataset and create an image gallery\n",
        "\n",
        "In the following code, Saving the first 25 wrongly predicted images among the test set.\n",
        "For  these wrongly classified examples are saved into a list of tuples. Each tuple will have three elements with image data tensor, predicted value and the actual values."
      ]
    },
    {
      "cell_type": "markdown",
      "metadata": {
        "id": "XAhq9wy0IoZx",
        "colab_type": "text"
      },
      "source": [
        "In the subsiquent cell, I will use the list of 25 wrong prediction **tuple** to plot and show image using **matplotlib**."
      ]
    },
    {
      "cell_type": "code",
      "metadata": {
        "id": "C_r7tzHq-KRf",
        "colab_type": "code",
        "outputId": "d400ed8c-36ef-4e21-d595-602ab14f9389",
        "colab": {
          "base_uri": "https://localhost:8080/",
          "height": 34
        }
      },
      "source": [
        "j,t = 0, 0\n",
        "X_test_wrong = []\n",
        "for i in range(len(X_test)):\n",
        "  img_data = x_test[i].reshape(1, 28, 28,1)\n",
        "  t += 1\n",
        "  if np.argmax(model.predict(img_data)) != np.argmax(Y_test[i]):\n",
        "    X_test_wrong.append((img_data, np.argmax(model.predict(img_data)), np.argmax(Y_test[i])))\n",
        "    j += 1\n",
        "  if j >= 25:\n",
        "    break\n",
        "print('total false preds {} for samples {}'.format(j,t))\n"
      ],
      "execution_count": 24,
      "outputs": [
        {
          "output_type": "stream",
          "text": [
            "total false preds 25 for samples 2655\n"
          ],
          "name": "stdout"
        }
      ]
    },
    {
      "cell_type": "markdown",
      "metadata": {
        "id": "nePIq0QGIRgP",
        "colab_type": "text"
      },
      "source": [
        "#### Miss classified images:\n",
        "With visual inspection of the misclassified images we can say that, mistake in proper classification is not entirely due to imperfection of the model. It is the imperfect samples.\n",
        "Even a human can get confused with most of the examples bellow. \n",
        "\n",
        "We can also observe that the predicted values are close to what they would have been, if not the actual values. In some cases the images are actually close to the predicted class than the actual class.\n",
        "\n",
        "With these observations, we can conclude that model accuracy/performance is much better than we see on the validation and train data.\n"
      ]
    },
    {
      "cell_type": "code",
      "metadata": {
        "id": "udJIGUM7CIMZ",
        "colab_type": "code",
        "outputId": "81003766-bd63-4f2b-f999-fcf70c5810b7",
        "colab": {
          "base_uri": "https://localhost:8080/",
          "height": 1042
        }
      },
      "source": [
        "plt.figure(figsize=(18,18))\n",
        "batch_size = 25\n",
        "i = 0\n",
        "for img in X_test_wrong:\n",
        "  ax = plt.subplot(5,5,i+1)\n",
        "  ax.set_title(\"pred: {}   actu: {}\".format(img[1], img[2]), color='r')\n",
        "  plt.imshow(np.reshape(img[0], (28,28)), cmap=plt.cm.gray)\n",
        "  i += 1"
      ],
      "execution_count": 18,
      "outputs": [
        {
          "output_type": "display_data",
          "data": {
            "image/png": "[encoded data removed]",
            "text/plain": [
              "<Figure size 1296x1296 with 25 Axes>"
            ]
          },
          "metadata": {
            "tags": []
          }
        }
      ]
    },
    {
      "cell_type": "code",
      "metadata": {
        "id": "OCWoJkwE9suh",
        "colab_type": "code",
        "colab": {}
      },
      "source": [
        "y_pred = model.predict(X_test)"
      ],
      "execution_count": 0,
      "outputs": []
    },
    {
      "cell_type": "code",
      "metadata": {
        "id": "Ym7iCFBm9uBs",
        "colab_type": "code",
        "outputId": "51c9c3ec-a2a3-4309-e65a-791e42afc553",
        "colab": {
          "base_uri": "https://localhost:8080/",
          "height": 493
        }
      },
      "source": [
        "print(y_pred[:9])\n",
        "print(y_test[:9])"
      ],
      "execution_count": 20,
      "outputs": [
        {
          "output_type": "stream",
          "text": [
            "[[8.36496739e-08 2.84598264e-06 1.60948980e-06 4.23295023e-06\n",
            "  6.44205844e-09 2.64089870e-08 2.44252622e-11 9.99983430e-01\n",
            "  1.49648134e-08 7.67730398e-06]\n",
            " [5.49260367e-05 1.27937499e-04 9.99729693e-01 8.66626522e-07\n",
            "  8.74855323e-06 1.62184455e-09 7.66014273e-05 3.88026642e-08\n",
            "  1.10638655e-06 3.89223018e-08]\n",
            " [2.11669067e-06 9.99828339e-01 5.36713560e-05 9.26192456e-08\n",
            "  3.89936395e-05 8.58853355e-07 1.12022337e-06 7.09417218e-05\n",
            "  5.64726236e-07 3.23827567e-06]\n",
            " [9.97356892e-01 1.20941470e-08 5.36034895e-06 5.65193830e-07\n",
            "  5.23354038e-06 2.06551113e-06 2.58853356e-03 3.37635271e-07\n",
            "  6.24096219e-06 3.47417699e-05]\n",
            " [1.30808003e-10 1.71737980e-07 3.19136007e-08 2.51298959e-09\n",
            "  9.99987960e-01 2.41286440e-08 5.76899140e-07 1.36210012e-08\n",
            "  5.59954003e-07 1.06440275e-05]\n",
            " [1.39674080e-06 9.99865532e-01 2.93777703e-05 3.19839728e-08\n",
            "  3.89165543e-05 1.79115943e-07 6.53745246e-07 6.08599112e-05\n",
            "  6.32486888e-07 2.32517777e-06]\n",
            " [2.42965481e-10 1.30409562e-05 2.24828668e-07 6.40739950e-09\n",
            "  9.99902606e-01 9.46006722e-08 5.83368021e-09 3.73982439e-05\n",
            "  8.11159680e-06 3.84596315e-05]\n",
            " [1.15120224e-08 2.84485566e-07 5.93351615e-07 3.91723944e-07\n",
            "  1.19574449e-03 4.99894490e-08 6.82949391e-11 2.49012487e-07\n",
            "  1.21997682e-05 9.98790562e-01]\n",
            " [5.55120816e-04 1.92446373e-06 7.20049502e-05 1.14700006e-05\n",
            "  2.78702661e-08 8.16696942e-01 1.79650009e-01 1.71923307e-06\n",
            "  2.84072664e-03 1.70066414e-04]]\n",
            "[7 2 1 0 4 1 4 9 5]\n"
          ],
          "name": "stdout"
        }
      ]
    },
    {
      "cell_type": "code",
      "metadata": {
        "id": "CT--y98_dr2T",
        "colab_type": "code",
        "colab": {}
      },
      "source": [
        "layer_dict = dict([(layer.name, layer) for layer in model.layers])"
      ],
      "execution_count": 0,
      "outputs": []
    },
    {
      "cell_type": "code",
      "metadata": {
        "id": "hNPU5-_8kPIQ",
        "colab_type": "code",
        "colab": {}
      },
      "source": [
        ""
      ],
      "execution_count": 0,
      "outputs": []
    },
    {
      "cell_type": "code",
      "metadata": {
        "id": "2GY4Upv4dsUR",
        "colab_type": "code",
        "outputId": "3b238caf-74b0-457a-f372-956526201c23",
        "colab": {
          "base_uri": "https://localhost:8080/",
          "height": 741
        }
      },
      "source": [
        "import numpy as np\n",
        "from matplotlib import pyplot as plt\n",
        "from keras import backend as K\n",
        "%matplotlib inline\n",
        "# util function to convert a tensor into a valid image\n",
        "def deprocess_image(x):\n",
        "    # normalize tensor: center on 0., ensure std is 0.1\n",
        "    x -= x.mean()\n",
        "    x /= (x.std() + 1e-5)\n",
        "    x *= 0.1\n",
        "\n",
        "    # clip to [0, 1]\n",
        "    x += 0.5\n",
        "    x = np.clip(x, 0, 1)\n",
        "\n",
        "    # convert to RGB array\n",
        "    x *= 255\n",
        "    #x = x.transpose((1, 2, 0))\n",
        "    x = np.clip(x, 0, 255).astype('uint8')\n",
        "    return x\n",
        "\n",
        "def vis_img_in_filter(img = np.array(X_train[2]).reshape((1, 28, 28, 1)).astype(np.float64), \n",
        "                      layer_name = 'conv2d_2'):\n",
        "    layer_output = layer_dict[layer_name].output\n",
        "    img_ascs = list()\n",
        "    for filter_index in range(layer_output.shape[3]):\n",
        "        # build a loss function that maximizes the activation\n",
        "        # of the nth filter of the layer considered\n",
        "        loss = K.mean(layer_output[:, :, :, filter_index])\n",
        "\n",
        "        # compute the gradient of the input picture wrt this loss\n",
        "        grads = K.gradients(loss, model.input)[0]\n",
        "\n",
        "        # normalization trick: we normalize the gradient\n",
        "        grads /= (K.sqrt(K.mean(K.square(grads))) + 1e-5)\n",
        "\n",
        "        # this function returns the loss and grads given the input picture\n",
        "        iterate = K.function([model.input], [loss, grads])\n",
        "\n",
        "        # step size for gradient ascent\n",
        "        step = 5.\n",
        "\n",
        "        img_asc = np.array(img)\n",
        "        # run gradient ascent for 20 steps\n",
        "        for i in range(20):\n",
        "            loss_value, grads_value = iterate([img_asc])\n",
        "            img_asc += grads_value * step\n",
        "\n",
        "        img_asc = img_asc[0]\n",
        "        img_ascs.append(deprocess_image(img_asc).reshape((28, 28)))\n",
        "        \n",
        "    if layer_output.shape[3] >= 35:\n",
        "        plot_x, plot_y = 6, 6\n",
        "    elif layer_output.shape[3] >= 23:\n",
        "        plot_x, plot_y = 4, 6\n",
        "    elif layer_output.shape[3] >= 11:\n",
        "        plot_x, plot_y = 2, 6\n",
        "    else:\n",
        "        plot_x, plot_y = 1, 2\n",
        "    fig, ax = plt.subplots(plot_x, plot_y, figsize = (12, 12))\n",
        "    ax[0, 0].imshow(img.reshape((28, 28)), cmap = 'gray')\n",
        "    ax[0, 0].set_title('Input image')\n",
        "    fig.suptitle('Input image and %s filters' % (layer_name,))\n",
        "    fig.tight_layout(pad = 0.3, rect = [0, 0, 0.9, 0.9])\n",
        "    for (x, y) in [(i, j) for i in range(plot_x) for j in range(plot_y)]:\n",
        "        if x == 0 and y == 0:\n",
        "            continue\n",
        "        ax[x, y].imshow(img_ascs[x * plot_y + y - 1], cmap = 'gray')\n",
        "        ax[x, y].set_title('filter %d' % (x * plot_y + y - 1))\n",
        "\n",
        "vis_img_in_filter()"
      ],
      "execution_count": 23,
      "outputs": [
        {
          "output_type": "display_data",
          "data": {
            "image/png": "[encoded data removed]",
            "text/plain": [
              "<Figure size 864x864 with 12 Axes>"
            ]
          },
          "metadata": {
            "tags": []
          }
        }
      ]
    },
    {
      "cell_type": "code",
      "metadata": {
        "id": "9tvptcn8dxvp",
        "colab_type": "code",
        "colab": {}
      },
      "source": [
        ""
      ],
      "execution_count": 0,
      "outputs": []
    }
  ]
}